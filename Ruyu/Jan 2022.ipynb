{
 "cells": [
  {
   "cell_type": "markdown",
   "id": "f6e3088b",
   "metadata": {},
   "source": [
    "## House Robber 01/02/22"
   ]
  },
  {
   "cell_type": "code",
   "execution_count": null,
   "id": "b9353f0e",
   "metadata": {},
   "outputs": [],
   "source": [
    "class Solution:\n",
    "    def rob(self, nums):\n",
    "        a=b=0\n",
    "        for x in nums:\n",
    "            a,b = b, max(a+x,b)\n",
    "        return b  "
   ]
  },
  {
   "cell_type": "markdown",
   "id": "0045a224",
   "metadata": {},
   "source": [
    "## Minimum Number of Refueling stops 01/03/22"
   ]
  },
  {
   "cell_type": "code",
   "execution_count": 4,
   "id": "e3c2b09b",
   "metadata": {},
   "outputs": [],
   "source": [
    "class Solution:\n",
    "    def minRefuelStops(self, target, startFuel, stations):\n",
    "        dp=[startFuel]+[0]*len(stations)\n",
    "        for i, (location, capacity) in enumerate(stations):\n",
    "            for t in range(i,-1,-1):\n",
    "                if dp[t]>=location:\n",
    "                    dp[t+1]=max(dp[t+1],dp[t]+capacity)\n",
    "        for i, d in enumerate(dp):\n",
    "            if d>=target: return i\n",
    "        return -1"
   ]
  },
  {
   "cell_type": "markdown",
   "id": "c3fb17da",
   "metadata": {},
   "source": [
    "## Regular Expression Matching 01/04/22"
   ]
  },
  {
   "cell_type": "code",
   "execution_count": 2,
   "id": "f144d90c",
   "metadata": {},
   "outputs": [],
   "source": [
    "class Solution(object):## recursion\n",
    "    def isMatch(self, text, p):\n",
    "        \"\"\"\n",
    "        :type s: str\n",
    "        :type p: str\n",
    "        :rtype: bool\n",
    "        \"\"\"\n",
    "        if not p:\n",
    "            return not text\n",
    "        first_match=bool(text) and p[0] in {text[0],'.'}\n",
    "        \n",
    "        if len(pattern)>=2 and p[1]=='*':\n",
    "            return (self.isMatch(text, p[2:]) or\n",
    "                   first_match and self.isMatch(text[1:], p))\n",
    "        else:\n",
    "            return first_match and self.isMatch(text[1:],p[1:])"
   ]
  },
  {
   "cell_type": "markdown",
   "id": "e61efa15",
   "metadata": {},
   "source": [
    "## Minimum One Bit Operations to Make Integers Zero 01/05/22"
   ]
  },
  {
   "cell_type": "code",
   "execution_count": 7,
   "id": "db097623",
   "metadata": {},
   "outputs": [],
   "source": [
    "class Solution(object):\n",
    "    dp = {0: 0}\n",
    "    def minimumOneBitOperations(self, n):\n",
    "        \"\"\"\n",
    "        :type n: int\n",
    "        :rtype: int\n",
    "        \"\"\"\n",
    "        if n not in self.dp:\n",
    "            b=1\n",
    "            while(b<<1)<=n:\n",
    "                b=b<<1\n",
    "            self.dp[n]=self.minimumOneBitOperations((b>>1)^b^n)+1+b-1\n",
    "        return self.dp[n]\n",
    "        "
   ]
  },
  {
   "cell_type": "markdown",
   "id": "6f7b015d",
   "metadata": {},
   "source": [
    " ## Longest Valid Parentheses 01/06/22\n",
    "Given a string containing just the characters '(' and ')', find the length of the longest valid (well-formed) parentheses substring."
   ]
  },
  {
   "cell_type": "code",
   "execution_count": 1,
   "id": "bb58ec4c",
   "metadata": {},
   "outputs": [],
   "source": [
    "class Solution(object):\n",
    "    def longestValidParentheses(self, s):\n",
    "        \"\"\"\n",
    "        :type s: str\n",
    "        :rtype: int\n",
    "        \"\"\"\n",
    "        dp, stack = [0]*(len(s)+1),[]\n",
    "        for i in range(len(s)):\n",
    "            if s[i]=='(':\n",
    "                stack.append(i)\n",
    "            else:\n",
    "                if stack:\n",
    "                    p=stack.pop()\n",
    "                    dp[i+1]=dp[p]+i-p+1\n",
    "        return max(dp)"
   ]
  },
  {
   "cell_type": "code",
   "execution_count": 2,
   "id": "89dd7967",
   "metadata": {},
   "outputs": [],
   "source": [
    "class Solution(object):\n",
    "    def longestValidParentheses(self, s):\n",
    "        \"\"\"\n",
    "        :type s: str\n",
    "        :rtype: int\n",
    "        \"\"\"\n",
    "        dp = [0]*len(s)\n",
    "        for i in range(1, len(s)):\n",
    "            p = i-dp[i-1]-1\n",
    "            if p>=0 and s[i]==\")\" and s[p]==\"(\":\n",
    "                dp[i]=dp[i-1]+2+dp[p-1]\n",
    "        return max(dp) if s else 0"
   ]
  },
  {
   "cell_type": "markdown",
   "id": "3e576306",
   "metadata": {},
   "source": [
    "##  Best Time to Buy and Sell Stock II 01/07/22"
   ]
  },
  {
   "cell_type": "code",
   "execution_count": 1,
   "id": "57837442",
   "metadata": {},
   "outputs": [],
   "source": [
    "class Solution(object):\n",
    "    def maxProfit(self, prices):\n",
    "        \"\"\"\n",
    "        :type prices: List[int]\n",
    "        :rtype: int\n",
    "        \"\"\"\n",
    "        res = 0\n",
    "        for i in range(len(prices)-1):\n",
    "            p = prices[i+1]-prices[i]\n",
    "            if p>0:\n",
    "                res+=p\n",
    "        return res"
   ]
  },
  {
   "cell_type": "markdown",
   "id": "b31ccbc0",
   "metadata": {},
   "source": [
    "## Largest Divisible subset 1/08/21\n",
    "Given a set of distinct positive integers nums, return the largest subset answer such that every pair (answer[i], answer[j]) of elements in this subset satisfies:answer[i] % answer[j] == 0, or\n",
    "answer[j] % answer[i] == 0"
   ]
  },
  {
   "cell_type": "code",
   "execution_count": 2,
   "id": "d8df52d8",
   "metadata": {},
   "outputs": [],
   "source": [
    "class Solution(object):\n",
    "    def largestDivisibleSubset(self, nums):\n",
    "        \"\"\"\n",
    "        :type nums: List[int]\n",
    "        :rtype: List[int]\n",
    "        \"\"\"\n",
    "        subsets = {-1:set()}\n",
    "        for num in sorted(nums):\n",
    "            subsets[num]=max([subsets[k] for k in subsets if num%k==0],key=len)|{num}\n",
    "            \n",
    "            return list(max(subsets.values(), key=len))"
   ]
  },
  {
   "cell_type": "markdown",
   "id": "395ad140",
   "metadata": {},
   "source": [
    "## Knight Dialer 1/09/22"
   ]
  },
  {
   "cell_type": "code",
   "execution_count": 6,
   "id": "f957053c",
   "metadata": {},
   "outputs": [],
   "source": [
    "class Solution(object):\n",
    "    def knightDialer(self, n):\n",
    "        \"\"\"\n",
    "        :type n: int\n",
    "        :rtype: int\n",
    "        \"\"\"\n",
    "        dct = {\n",
    "            0:(4,6),\n",
    "            1:(6,8),\n",
    "            2:(7,9),\n",
    "            3:(4,8),\n",
    "            4:(0,3,9),\n",
    "            5:(),\n",
    "            6:(0,1,7),\n",
    "            7:(2,6),\n",
    "            8:(1,3),\n",
    "            9:(2,4)\n",
    "        }\n",
    "        dp = [1]*10\n",
    "        \n",
    "        for _ in range(n-1):\n",
    "            nxt = [0]*10\n",
    "            for i in range(10):\n",
    "                for j in dct[i]:\n",
    "                    nxt[i]+=dp[j]\n",
    "            dp=nxt\n",
    "        return sum(dp)%(10**9+7)"
   ]
  },
  {
   "cell_type": "markdown",
   "id": "88b5ddef",
   "metadata": {},
   "source": [
    "## Count Binary Substrings 1/10/22"
   ]
  },
  {
   "cell_type": "code",
   "execution_count": 1,
   "id": "6512666b",
   "metadata": {},
   "outputs": [],
   "source": [
    "class Solution(object):\n",
    "    def countBinarySubstrings(self, s):\n",
    "        \"\"\"\n",
    "        :type s: str\n",
    "        :rtype: int\n",
    "        \"\"\"\n",
    "        l = []\n",
    "        for i in s.replace(\"01\",\"0 1\").replace(\"10\", \"1 0\").split():\n",
    "            l.append(len(i))\n",
    "        return sum(min(a,b) for a,b in zip(l,l[1:]))"
   ]
  },
  {
   "cell_type": "markdown",
   "id": "2672a17a",
   "metadata": {},
   "source": [
    "## Flip String to Monotone Increasing 01/11/22"
   ]
  },
  {
   "cell_type": "code",
   "execution_count": 2,
   "id": "3b7302bd",
   "metadata": {},
   "outputs": [],
   "source": [
    "class Solution(object):\n",
    "    def minFlipsMonoIncr(self, s):\n",
    "        \"\"\"\n",
    "        :type s: str\n",
    "        :rtype: int\n",
    "        \"\"\"\n",
    "        n = len(s)\n",
    "        count0=s.count('0')\n",
    "        count1 = 0\n",
    "        res = n-count0\n",
    "        for i in range(n):\n",
    "            if s[i]=='0':\n",
    "                count0 -=1\n",
    "            elif s[i]=='1':\n",
    "                res = min(res, count0+count1)\n",
    "                count1 +=1\n",
    "        return res"
   ]
  },
  {
   "cell_type": "markdown",
   "id": "cf6634ea",
   "metadata": {},
   "source": [
    "## Maximum Product Subarray 01/12/22"
   ]
  },
  {
   "cell_type": "code",
   "execution_count": null,
   "id": "39659ab8",
   "metadata": {},
   "outputs": [],
   "source": [
    "class Solution(object):\n",
    "    def maxProduct(self, nums):\n",
    "        \"\"\"\n",
    "        :type nums: List[int]\n",
    "        :rtype: int\n",
    "        \"\"\"\n",
    "        if len(nums)==0:\n",
    "            return 0\n",
    "        \n",
    "        result = nums[0]\n",
    "        \n",
    "        for i in range(len(nums)):\n",
    "            accu = 1\n",
    "            for j in range(i, len(nums)):\n",
    "                accu *=nums[j]\n",
    "                result = max(result, accu)\n",
    "            \n",
    "        return result"
   ]
  },
  {
   "cell_type": "code",
   "execution_count": null,
   "id": "9ca3158c",
   "metadata": {},
   "outputs": [],
   "source": [
    "class Solution:\n",
    "    def maxProduct(self, nums):\n",
    "        curMax, curMin = 1, 1\n",
    "        res = nums[0]\n",
    "        \n",
    "        for n in nums:\n",
    "            vals = (n, n * curMax, n * curMin)\n",
    "            curMax, curMin = max(vals), min(vals)\n",
    "\n",
    "            res = max(res, curMax)\n",
    "            \n",
    "        return res"
   ]
  },
  {
   "cell_type": "markdown",
   "id": "b4e7b4da",
   "metadata": {},
   "source": [
    "## Unique Binary Search Trees 01/13/22\n",
    "Given an integer n, return the number of structurally unique BST's (binary search trees) which has exactly n nodes of unique values from 1 to n."
   ]
  },
  {
   "cell_type": "code",
   "execution_count": 1,
   "id": "8bcf9b2e",
   "metadata": {},
   "outputs": [],
   "source": [
    "class Solution(object):\n",
    "    def numTrees(self, n):\n",
    "        \"\"\"\n",
    "        :type n: int\n",
    "        :rtype: int\n",
    "        \"\"\"\n",
    "        G=[0]*(n+1)\n",
    "        G[0],G[1]=1,1\n",
    "        for i in range(2, n+1):\n",
    "            for j in range(1, i+1):\n",
    "                G[i]+=G[j-1]*G[i-j]\n",
    "                \n",
    "        return G[n]"
   ]
  },
  {
   "cell_type": "markdown",
   "id": "4f1180ff",
   "metadata": {},
   "source": [
    "## Partition Equal Subset Sum 01/14/22\n",
    "Given a non-empty array nums containing only positive integers, find if the array can be partitioned into two subsets such that the sum of elements in both subsets is equal."
   ]
  },
  {
   "cell_type": "code",
   "execution_count": 2,
   "id": "923c422d",
   "metadata": {},
   "outputs": [],
   "source": [
    "class Solution(object):\n",
    "    def canPartition(self, nums):\n",
    "        \"\"\"\n",
    "        :type nums: List[int]\n",
    "        :rtype: bool\n",
    "        \"\"\"\n",
    "        s=sum(nums)\n",
    "        if s&1:\n",
    "            return False\n",
    "        dp=[True]+[False]*s\n",
    "        for num in nums:\n",
    "            for curr in range(s,num-1,-1):\n",
    "                dp[curr]=dp[curr] or dp[curr-num]\n",
    "        return dp[s//2]"
   ]
  },
  {
   "cell_type": "markdown",
   "id": "3c76326a",
   "metadata": {},
   "source": [
    "## Unique Paths 01/15/22"
   ]
  },
  {
   "cell_type": "code",
   "execution_count": 2,
   "id": "1a0901a7",
   "metadata": {},
   "outputs": [],
   "source": [
    "class Solution(object):\n",
    "    def uniquePaths(self, m, n):\n",
    "        \"\"\"\n",
    "        :type m: int\n",
    "        :type n: int\n",
    "        :rtype: int\n",
    "        \"\"\"\n",
    "        if m==1 or n==1:\n",
    "            return 1\n",
    "        \n",
    "        return self.uniquePaths(m-1,n)+self.unqiuePaths(m,n-1)"
   ]
  },
  {
   "cell_type": "code",
   "execution_count": null,
   "id": "2cb6a5f0",
   "metadata": {},
   "outputs": [],
   "source": [
    "class Solution(object):\n",
    "    def uniquePaths(self, m, n):\n",
    "        \"\"\"\n",
    "        :type m: int\n",
    "        :type n: int\n",
    "        :rtype: int\n",
    "        \"\"\"\n",
    "        \n",
    "        d = [[1] * n for _ in range(m)]\n",
    "\n",
    "        for col in range(1, m):\n",
    "            for row in range(1, n):\n",
    "                d[col][row] = d[col - 1][row] + d[col][row - 1]\n",
    "\n",
    "        return d[m - 1][n - 1]"
   ]
  },
  {
   "cell_type": "markdown",
   "id": "09898007",
   "metadata": {},
   "source": [
    "## Delete and Earn 01/16/22"
   ]
  },
  {
   "cell_type": "code",
   "execution_count": 1,
   "id": "a0dcfc6d",
   "metadata": {},
   "outputs": [],
   "source": [
    "class Solution(object):\n",
    "    def deleteAndEarn(self, nums):\n",
    "        \"\"\"\n",
    "        :type nums: List[int]\n",
    "        :rtype: int\n",
    "        \"\"\"\n",
    "        \n",
    "        points, prev,curr = [0]*10001,0,0\n",
    "        for num in nums:\n",
    "            points[num]+=num\n",
    "        for value in points:\n",
    "            prev, curr = curr, max(prev+value, curr)\n",
    "        return curr"
   ]
  },
  {
   "cell_type": "markdown",
   "id": "2127916a",
   "metadata": {},
   "source": [
    "## Maximal Square 01/17/22"
   ]
  },
  {
   "cell_type": "code",
   "execution_count": 1,
   "id": "01a3f5ec",
   "metadata": {},
   "outputs": [],
   "source": [
    "class Solution(object):\n",
    "    def maximalSquare(self, matrix):\n",
    "        \"\"\"\n",
    "        :type matrix: List[List[str]]\n",
    "        :rtype: int\n",
    "        \"\"\"\n",
    "        if not matrix:\n",
    "            return 0\n",
    "        m,n=len(matrix),len(matrix[0])\n",
    "        dp=[[0 if matrix[i][j]=='0' else 1 for j in range(0,n)] for i in range(0,m)]\n",
    "        \n",
    "        for i in range(1,m):\n",
    "            for j in range(1,n):\n",
    "                if matrix[i][j]=='1':\n",
    "                    dp[i][j]=min(dp[i-1][j],dp[i][j-1],dp[i-1][j-1])+1\n",
    "                else:\n",
    "                    dp[i][j]=0\n",
    "                    \n",
    "        res=max(max(row) for row in dp)\n",
    "        return res**2"
   ]
  },
  {
   "cell_type": "markdown",
   "id": "52b06c34",
   "metadata": {},
   "source": [
    "## Counting Bits 01/18/22\n",
    "Given an integer n, return an array ans of length n + 1 such that for each i (0 <= i <= n), ans[i] is the number of 1's in the binary representation of i."
   ]
  },
  {
   "cell_type": "code",
   "execution_count": 1,
   "id": "9fd7fb01",
   "metadata": {},
   "outputs": [],
   "source": [
    "class Solution(object):\n",
    "    def countBits(self, num):\n",
    "        \"\"\"\n",
    "        :type n: int\n",
    "        :rtype: List[int]\n",
    "        \"\"\"\n",
    "        count = [0]\n",
    "        for i in range(1, num+1):\n",
    "            count.append(count[i>>1]+i%2)\n",
    "        return count"
   ]
  },
  {
   "cell_type": "markdown",
   "id": "72c690cd",
   "metadata": {},
   "source": [
    "## Fibonacci Number 01/19/22"
   ]
  },
  {
   "cell_type": "code",
   "execution_count": 3,
   "id": "aa9f3be2",
   "metadata": {},
   "outputs": [],
   "source": [
    "class Solution(object):\n",
    "    def fib(self, n):\n",
    "        \"\"\"\n",
    "        :type n: int\n",
    "        :rtype: int\n",
    "        \"\"\"\n",
    "        if n==0:\n",
    "            return 0\n",
    "        elif n==1:\n",
    "            return 1\n",
    "        \n",
    "        f1=0\n",
    "        f2=1\n",
    "        curr = 0\n",
    "        for i in range(2,n+1):\n",
    "            curr = f1+f2\n",
    "            f1=f2\n",
    "            f2=curr\n",
    "            \n",
    "        return curr\n",
    "            "
   ]
  },
  {
   "cell_type": "markdown",
   "id": "6a107038",
   "metadata": {},
   "source": [
    "## Domino and Tromino Tiling 01/20/22"
   ]
  },
  {
   "cell_type": "code",
   "execution_count": 3,
   "id": "6258b94e",
   "metadata": {},
   "outputs": [],
   "source": [
    "class Solution(object):\n",
    "    def numTilings(self, n):\n",
    "        \"\"\"\n",
    "        :type n: int\n",
    "        :rtype: int\n",
    "        \"\"\"\n",
    "        MOD=1_000_000_007\n",
    "        def p(n):\n",
    "            if n==2:\n",
    "                return 1\n",
    "        return (p(n-1)+f(n-2))%MOD\n",
    "\n",
    "        def f(n):\n",
    "            if n<=2:\n",
    "                return n\n",
    "            return (f(n-1)+f(n-2)+2*p(n-1))% MOD\n",
    "    \n",
    "        return f(n)\n"
   ]
  },
  {
   "cell_type": "markdown",
   "id": "abd17dc9",
   "metadata": {},
   "source": [
    "## Sum of Subarray Minimums 01/21/22"
   ]
  },
  {
   "cell_type": "code",
   "execution_count": 4,
   "id": "073b7681",
   "metadata": {},
   "outputs": [],
   "source": [
    "class Solution:\n",
    "    def sumSubarrayMins(self, A):\n",
    "        #we add zeros to A and stack to avoid dealing with empty stack)\n",
    "        A = [0]+A\n",
    "        result = [0]*len(A)\n",
    "        stack=[0]\n",
    "        for i in range(len(A)):\n",
    "            while A[stack[-1]]>A[i]:\n",
    "                stack.pop()\n",
    "            j=stack[-1]\n",
    "            result[i]=result[j]+(i-j)*A[i]\n",
    "            stack.append(i)\n",
    "        return sum(result)%(10**9+7)"
   ]
  },
  {
   "cell_type": "markdown",
   "id": "d7a45bd6",
   "metadata": {},
   "source": [
    "## Is subsequence 01/22/22"
   ]
  },
  {
   "cell_type": "code",
   "execution_count": 5,
   "id": "e4670391",
   "metadata": {},
   "outputs": [],
   "source": [
    "class Solution:\n",
    "    def isSubsequence(self, s, t):\n",
    "        t = iter(t)\n",
    "        return all(c in t for c in s)"
   ]
  },
  {
   "cell_type": "code",
   "execution_count": 6,
   "id": "996e80ad",
   "metadata": {},
   "outputs": [],
   "source": [
    "class Solution:\n",
    "    def isSubsequence(self, s, t):\n",
    "        remainder_of_t = iter(t)\n",
    "        for letter in s:\n",
    "            if letter not in remainder_of_t:\n",
    "                return False\n",
    "        return True"
   ]
  },
  {
   "cell_type": "markdown",
   "id": "958a367b",
   "metadata": {},
   "source": [
    "## Coin change 2   01/23/22"
   ]
  },
  {
   "cell_type": "code",
   "execution_count": 1,
   "id": "d963d301",
   "metadata": {},
   "outputs": [],
   "source": [
    "class Solution:\n",
    "    def change(self, amount, coins):\n",
    "        dp=[0]*(amount+1)\n",
    "        dp[0]=1\n",
    "        for coin in coins:\n",
    "            for x in range(coin, amount+1):\n",
    "                dp[x]+=dp[x-coin]\n",
    "\n",
    "        return dp[amount]"
   ]
  },
  {
   "cell_type": "markdown",
   "id": "ce83493b",
   "metadata": {},
   "source": [
    "## Divisor Game 01/24/22"
   ]
  },
  {
   "cell_type": "code",
   "execution_count": null,
   "id": "8ec083c4",
   "metadata": {},
   "outputs": [],
   "source": [
    "class Solution:\n",
    "    def divisorGame(self, n):\n",
    "        return n%2==0"
   ]
  },
  {
   "cell_type": "markdown",
   "id": "3031d23b",
   "metadata": {},
   "source": [
    "## N-th Tribonacci Number 01/25/22"
   ]
  },
  {
   "cell_type": "code",
   "execution_count": 1,
   "id": "eed429eb",
   "metadata": {},
   "outputs": [],
   "source": [
    "class Solution:\n",
    "    def tribonacci(self, n):\n",
    "        n0=0\n",
    "        n1=1\n",
    "        n2=1\n",
    "        if n==1:\n",
    "            return 0\n",
    "        elif n==2:\n",
    "            return 1\n",
    "        elif n==3:\n",
    "            return 1\n",
    "        \n",
    "        for i in range(n-2):\n",
    "            n0,n1,n2=n1,n2,n0+n1+n2\n",
    "        return n2"
   ]
  },
  {
   "cell_type": "markdown",
   "id": "4c6a3dae",
   "metadata": {},
   "source": [
    "## Get Maximum in Generated Array 01/26/22"
   ]
  },
  {
   "cell_type": "code",
   "execution_count": 1,
   "id": "9c5bb2a6",
   "metadata": {},
   "outputs": [],
   "source": [
    "class Solution:\n",
    "    def getMaximumGenerated(self, n):\n",
    "        nums=[0]*(n+2)\n",
    "        nums[1]=1\n",
    "        for i in range(2, n+1):\n",
    "            nums[i]=nums[i//2]+nums[(i//2)+1]*(i%2)\n",
    "        return max(nums[:(n+1)])"
   ]
  },
  {
   "cell_type": "markdown",
   "id": "1493620a",
   "metadata": {},
   "source": [
    "## Find the Shortest Superstring 01/27/22"
   ]
  },
  {
   "cell_type": "code",
   "execution_count": null,
   "id": "6e1da2d8",
   "metadata": {},
   "outputs": [],
   "source": [
    "class Solution:\n",
    "    def longestIncreasingPath(self, matrix):\n",
    "        def dfs(i,j):\n",
    "            if not dp[i][j]:\n",
    "                val=matrix[i][j]\n",
    "                dp[i][j]=1+max(\n",
    "                dfs(i-1,j) if i and val>matrix[i-1][j] else 0,\n",
    "                dfs(i+1,j) if i<M-1 and val> matrix[i+1][j] else 0,\n",
    "                    dfs(i,j-1) if j and val>matrix[i][j-1] else 0,\n",
    "                    dfs(i, j+1) if j<N-1 and val>matrix[i][j+1] else 0)\n",
    "            return dp[i][j]\n",
    "        \n",
    "        if not matrix or not matrix[0]: return 0\n",
    "        M, N = len(matrix), len(matrix[0])\n",
    "        dp=[[0]*N for i in range(M)]\n",
    "        return max(dfs(x,y) for x in range(M) for y in range(N))\n",
    " "
   ]
  },
  {
   "cell_type": "markdown",
   "id": "7f85a18a",
   "metadata": {},
   "source": [
    "## Reconstruct Original Digits from English 01/30/22\n",
    "Given a string s containing an out-of-order English representation of digits 0-9, return the digits in ascending order."
   ]
  },
  {
   "cell_type": "code",
   "execution_count": 1,
   "id": "bd9d0a0b",
   "metadata": {},
   "outputs": [],
   "source": [
    "class Solution:\n",
    "    def originalDigits(self, s):\n",
    "        count = collections.Counter(s)\n",
    "        out={}\n",
    "        # letter \"z\" is present only in \"zero\"\n",
    "        out[\"0\"] = count[\"z\"]\n",
    "        # letter \"w\" is present only in \"two\"\n",
    "        out[\"2\"] = count[\"w\"]\n",
    "        # letter \"u\" is present only in \"four\"\n",
    "        out[\"4\"] = count[\"u\"]\n",
    "        # letter \"x\" is present only in \"six\"\n",
    "        out[\"6\"] = count[\"x\"]\n",
    "        # letter \"g\" is present only in \"eight\"\n",
    "        out[\"8\"] = count[\"g\"]\n",
    "        # letter \"h\" is present only in \"three\" and \"eight\"\n",
    "        out[\"3\"] = count[\"h\"] - out[\"8\"]\n",
    "        # letter \"f\" is present only in \"five\" and \"four\"\n",
    "        out[\"5\"] = count[\"f\"] - out[\"4\"]\n",
    "        # letter \"s\" is present only in \"seven\" and \"six\"\n",
    "        out[\"7\"] = count[\"s\"] - out[\"6\"]\n",
    "        # letter \"i\" is present in \"nine\", \"five\", \"six\", and \"eight\"\n",
    "        out[\"9\"] = count[\"i\"] - out[\"5\"] - out[\"6\"] - out[\"8\"]\n",
    "        # letter \"n\" is present in \"one\", \"nine\", and \"seven\"\n",
    "        out[\"1\"] = count[\"n\"] - out[\"7\"] - 2 * out[\"9\"]\n",
    "\n",
    "        output = [key*out[key] for key in sorted(out.keys())]\n",
    "        return \"\".join(output)"
   ]
  },
  {
   "cell_type": "code",
   "execution_count": null,
   "id": "42a029e2",
   "metadata": {},
   "outputs": [],
   "source": [
    "class Solution:\n",
    "    def originalDigits(self, s):\n",
    "        \"\"\"\n",
    "        :type s: str\n",
    "        :rtype: str\n",
    "        \"\"\"\n",
    "        res = \"\"\n",
    "        res += \"0\"*s.count('z')\n",
    "        res += \"1\"*(s.count('o')-s.count('z')-s.count('w')-s.count('u'))\n",
    "        res += \"2\"*s.count('w')\n",
    "        res += \"3\"*(s.count('h') - s.count('g'))\n",
    "        res += \"4\"*s.count('u')\n",
    "        res += \"5\"*(s.count('f') - s.count('u'))\n",
    "        res += \"6\"*s.count('x')\n",
    "        res += \"7\"*(s.count('s')-s.count('x'))\n",
    "        res += \"8\"*s.count(\"g\")\n",
    "        res += \"9\"*(s.count('i') - s.count('x') - s.count(\"g\") - s.count('f') + s.count('u'))\n",
    "        return res"
   ]
  },
  {
   "cell_type": "markdown",
   "id": "5d086f64",
   "metadata": {},
   "source": [
    "## add strings 01/31/22"
   ]
  },
  {
   "cell_type": "code",
   "execution_count": 1,
   "id": "78653f8f",
   "metadata": {},
   "outputs": [],
   "source": [
    "class Solution:\n",
    "    def addStrings(self, num1: str, num2: str) -> str:\n",
    "        \n",
    "        def str2int(num):\n",
    "            numDict = {'0' : 0, '1' : 1, '2' : 2, '3' : 3, '4' : 4, '5' : 5,\n",
    "                  '6' : 6, '7' : 7, '8' : 8, '9' : 9}\n",
    "            output = 0\n",
    "            for d in num:\n",
    "                output = output * 10 + numDict[d]\n",
    "            return output\n",
    "        \n",
    "        return str(str2int(num1) + str2int(num2)) "
   ]
  },
  {
   "cell_type": "code",
   "execution_count": null,
   "id": "3514d872",
   "metadata": {},
   "outputs": [],
   "source": []
  }
 ],
 "metadata": {
  "kernelspec": {
   "display_name": "Python 3",
   "language": "python",
   "name": "python3"
  },
  "language_info": {
   "codemirror_mode": {
    "name": "ipython",
    "version": 3
   },
   "file_extension": ".py",
   "mimetype": "text/x-python",
   "name": "python",
   "nbconvert_exporter": "python",
   "pygments_lexer": "ipython3",
   "version": "3.8.8"
  }
 },
 "nbformat": 4,
 "nbformat_minor": 5
}
