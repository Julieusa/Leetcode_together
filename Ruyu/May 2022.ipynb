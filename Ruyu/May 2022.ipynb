{
 "cells": [
  {
   "cell_type": "markdown",
   "id": "4cde996b",
   "metadata": {},
   "source": [
    "# DFS \n",
    "\n",
    "### May 11 2022: Review Number of islands, range sum of BST"
   ]
  },
  {
   "cell_type": "markdown",
   "id": "c8903538",
   "metadata": {},
   "source": [
    "### May 13 : Diameter of Binary Tree"
   ]
  },
  {
   "cell_type": "code",
   "execution_count": 1,
   "id": "e6ee4572",
   "metadata": {},
   "outputs": [],
   "source": [
    "# Definition for a binary tree node.\n",
    "# class TreeNode(object):\n",
    "#     def __init__(self, val=0, left=None, right=None):\n",
    "#         self.val = val\n",
    "#         self.left = left\n",
    "#         self.right = right\n",
    "class Solution(object):\n",
    "    def diameterOfBinaryTree(self, root):\n",
    "        \"\"\"\n",
    "        :type root: TreeNode\n",
    "        :rtype: int\n",
    "        \"\"\"\n",
    "        self.best = 1\n",
    "        def depth(root):\n",
    "            if not root: return 0\n",
    "            ansL = depth(root.left)\n",
    "            ansR = depth(root.right)\n",
    "            self.best = max(self.best, ansL+ansR+1)\n",
    "            return 1+max(ansL, ansR)\n",
    "        depth(root)\n",
    "        return self.best-1"
   ]
  },
  {
   "cell_type": "markdown",
   "id": "4dc2a74e",
   "metadata": {},
   "source": [
    "### May 14: Find Leaves of Binary Tree"
   ]
  },
  {
   "cell_type": "code",
   "execution_count": 1,
   "id": "6c2c21df",
   "metadata": {},
   "outputs": [],
   "source": [
    "# Definition for a binary tree node.\n",
    "# class TreeNode(object):\n",
    "#     def __init__(self, val=0, left=None, right=None):\n",
    "#         self.val = val\n",
    "#         self.left = left\n",
    "#         self.right = right\n",
    "class Solution(object):\n",
    "    def findLeaves(self, root):\n",
    "        \"\"\"\n",
    "        :type root: TreeNode\n",
    "        :rtype: List[List[int]]\n",
    "        \"\"\"\n",
    "        def order(root, dic):\n",
    "            if not root:\n",
    "                return 0\n",
    "            left = order(root.left, dic)\n",
    "            right = order(root.right, dic)\n",
    "            lev = max(left, right)+1\n",
    "            dic[lev]+=root.val\n",
    "            return lev\n",
    "        dic, ret = collections.defaultdict(list), []\n",
    "        order(root, dic)\n",
    "        for i in range(1,len(dic)+1):\n",
    "            ret.append(dic[i])\n",
    "        return ret"
   ]
  },
  {
   "cell_type": "code",
   "execution_count": null,
   "id": "4fec7855",
   "metadata": {},
   "outputs": [],
   "source": [
    "# Definition for a binary tree node.\n",
    "# class TreeNode(object):\n",
    "#     def __init__(self, val=0, left=None, right=None):\n",
    "#         self.val = val\n",
    "#         self.left = left\n",
    "#         self.right = right\n",
    "class Solution(object):\n",
    "     def findLeaves(self, root):\n",
    "        \"\"\"\n",
    "        :type root: TreeNode\n",
    "        :rtype: List[List[int]]\n",
    "        \"\"\"\n",
    "        output = collections.defaultdict(list)\n",
    "        def dfs(node, layer):\n",
    "            if not node:\n",
    "                return 0\n",
    "            left = dfs(node.left, layer)\n",
    "            right = dfs(node.right, layer)\n",
    "            layer = max(left, right)\n",
    "            output[layer].append(node.val)\n",
    "            return layer+1\n",
    "        dfs(root, 0)\n",
    "        return output.values()"
   ]
  },
  {
   "cell_type": "markdown",
   "id": "ace6946f",
   "metadata": {},
   "source": [
    "### May 15: Lowest Common Ancestor of a Binary Tree"
   ]
  },
  {
   "cell_type": "code",
   "execution_count": 2,
   "id": "ea290bf3",
   "metadata": {},
   "outputs": [],
   "source": [
    "# Definition for a binary tree node.\n",
    "# class TreeNode(object):\n",
    "#     def __init__(self, x):\n",
    "#         self.val = x\n",
    "#         self.left = None\n",
    "#         self.right = None\n",
    "\n",
    "class Solution(object):\n",
    "    def lowestCommonAncestor(self, root, p, q):\n",
    "        \"\"\"\n",
    "        :type root: TreeNode\n",
    "        :type p: TreeNode\n",
    "        :type q: TreeNode\n",
    "        :rtype: TreeNode\n",
    "        \"\"\"\n",
    "        if root==p or root==q:\n",
    "            return root\n",
    "        left=right=None\n",
    "        if root.left:\n",
    "            left = self.lowestCommonAncestor(root.left, p, q)\n",
    "        if root.right:\n",
    "            right = self.lowestCommonAncestor(root.right, p, q)\n",
    "        \n",
    "        if left and right:\n",
    "            return root\n",
    "        else:\n",
    "            return left or right"
   ]
  },
  {
   "cell_type": "code",
   "execution_count": null,
   "id": "34f2f17a",
   "metadata": {},
   "outputs": [],
   "source": []
  }
 ],
 "metadata": {
  "kernelspec": {
   "display_name": "Python 3",
   "language": "python",
   "name": "python3"
  },
  "language_info": {
   "codemirror_mode": {
    "name": "ipython",
    "version": 3
   },
   "file_extension": ".py",
   "mimetype": "text/x-python",
   "name": "python",
   "nbconvert_exporter": "python",
   "pygments_lexer": "ipython3",
   "version": "3.8.8"
  }
 },
 "nbformat": 4,
 "nbformat_minor": 5
}
