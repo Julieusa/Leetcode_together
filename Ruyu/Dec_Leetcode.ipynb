{
 "cells": [
  {
   "cell_type": "markdown",
   "id": "6690f5bc",
   "metadata": {},
   "source": [
    "## Reverse Linked List 12/01/21 \n",
    "Given the head of a singly linked list, reverse the list, and return the reversed list. Time O(n) spcae O(1)"
   ]
  },
  {
   "cell_type": "code",
   "execution_count": 3,
   "id": "33712d3f",
   "metadata": {},
   "outputs": [],
   "source": [
    "# Definition for singly-linked list.\n",
    "# class ListNode:\n",
    "#     def __init__(self, val=0, next=None):\n",
    "#         self.val = val\n",
    "#         self.next = next\n",
    "class Solution:\n",
    "    def reverseList(self, head):\n",
    "        cur = head\n",
    "        prev = None\n",
    "        while cur:\n",
    "            n = cur.next\n",
    "            cur.next = prev\n",
    "            prev = cur\n",
    "            cur = n\n",
    "        return prev"
   ]
  },
  {
   "cell_type": "markdown",
   "id": "5cb467f1",
   "metadata": {},
   "source": [
    "## Contains Duplicate 12/01/21\n",
    "Given an integer array nums, return true if any value appears at least twice in the array, and return false if every element is distinct."
   ]
  },
  {
   "cell_type": "code",
   "execution_count": 4,
   "id": "0f6deaf1",
   "metadata": {},
   "outputs": [],
   "source": [
    "class Solution:\n",
    "    def containsDuplicate(self, nums):\n",
    "        return len(set(nums))!=len(nums)"
   ]
  },
  {
   "cell_type": "markdown",
   "id": "3ac0c4e7",
   "metadata": {},
   "source": [
    "## Contains Duplicate II 12/02/21\n",
    "Given an integer array nums and an integer k, return true if there are two distinct indices i and j in the array such that nums[i] == nums[j] and abs(i - j) <= k."
   ]
  },
  {
   "cell_type": "code",
   "execution_count": 2,
   "id": "be40e9cb",
   "metadata": {},
   "outputs": [],
   "source": [
    "class Solution:\n",
    "    def containsNearbyDuplicate(self, nums, k):\n",
    "        index = {}\n",
    "        for i, n in enumerate(nums):\n",
    "            if n in index and i-index[n]<=k:\n",
    "                return True\n",
    "            index[n]=i\n",
    "        return False"
   ]
  },
  {
   "cell_type": "markdown",
   "id": "44b07ff5",
   "metadata": {},
   "source": [
    "## Implement Stack using Queues 12/03/21\n",
    "Implement a last-in-first-out (LIFO) stack using only two queues. The implemented stack should support all the functions of a normal stack (push, top, pop, and empty)"
   ]
  },
  {
   "cell_type": "code",
   "execution_count": 1,
   "id": "9e769c3e",
   "metadata": {},
   "outputs": [],
   "source": [
    "class MyStack:\n",
    "\n",
    "    def __init__(self):\n",
    "        self.queue=deque()\n",
    "\n",
    "    def push(self, x: int):\n",
    "        self.queue.append(x)\n",
    "        for i in range(len(self.queue)-1):\n",
    "            self.queue.append(self.queue.popleft())\n",
    "\n",
    "    def pop(self):\n",
    "        return self.queue.popleft()\n",
    "\n",
    "    def top(self):\n",
    "        return self.queue[0]\n",
    "\n",
    "    def empty(self):\n",
    "        return len(self.queue)==0\n",
    "\n",
    "\n",
    "# Your MyStack object will be instantiated and called as such:\n",
    "# obj = MyStack()\n",
    "# obj.push(x)\n",
    "# param_2 = obj.pop()\n",
    "# param_3 = obj.top()\n",
    "# param_4 = obj.empty()"
   ]
  },
  {
   "cell_type": "markdown",
   "id": "1e2f92ab",
   "metadata": {},
   "source": [
    "##  Invert Binary Tree 12/04/21\n",
    "Given the root of a binary tree, invert the tree, and return its root."
   ]
  },
  {
   "cell_type": "code",
   "execution_count": 3,
   "id": "c9d48988",
   "metadata": {},
   "outputs": [],
   "source": [
    "# Definition for a binary tree node.\n",
    "# class TreeNode:\n",
    "#     def __init__(self, val=0, left=None, right=None):\n",
    "#         self.val = val\n",
    "#         self.left = left\n",
    "#         self.right = right\n",
    "## recursive\n",
    "class Solution:\n",
    "    def invertTree(self, root):\n",
    "        if root:\n",
    "            invert = self.invertTree\n",
    "            root.left, root.right = invert(root.right), invert(root.left)\n",
    "            return root\n",
    "        "
   ]
  },
  {
   "cell_type": "code",
   "execution_count": 4,
   "id": "cf6720d3",
   "metadata": {},
   "outputs": [],
   "source": [
    "### use stack:\n",
    "class Solution:\n",
    "    def invertTree(self, root):\n",
    "        stack = [root]\n",
    "        while stack:\n",
    "            node = stack.pop()\n",
    "            if node:\n",
    "                node.left, node.right = node.right, node.left\n",
    "                stack+=node.left,node.right\n",
    "        return root"
   ]
  },
  {
   "cell_type": "markdown",
   "id": "54fcab44",
   "metadata": {},
   "source": [
    "## Power of two 12/05/21\n",
    "Given an integer n, return true if it is a power of two. Otherwise, return false."
   ]
  },
  {
   "cell_type": "code",
   "execution_count": null,
   "id": "a36492d2",
   "metadata": {},
   "outputs": [],
   "source": [
    "class Solution:## time O(logN)\n",
    "    def isPowerOfTwo(self, n):\n",
    "        if n==0:\n",
    "            return False\n",
    "        while n%2==0:\n",
    "            n=n/2\n",
    "        return n==1"
   ]
  },
  {
   "cell_type": "code",
   "execution_count": 2,
   "id": "fabedac6",
   "metadata": {},
   "outputs": [],
   "source": [
    "class Solution: # time O(1) space O(1)\n",
    "    def isPowerOfTwo(self, n):\n",
    "        if n==0:\n",
    "            return False\n",
    "        return n&(-n)==n"
   ]
  },
  {
   "cell_type": "markdown",
   "id": "4441be8c",
   "metadata": {},
   "source": [
    "## Palindrome Linked List 12/05/21\n",
    "Given the head of a singly linked list, return true if it is a palindrome"
   ]
  },
  {
   "cell_type": "code",
   "execution_count": 1,
   "id": "ca05d425",
   "metadata": {},
   "outputs": [],
   "source": [
    "# Definition for singly-linked list.\n",
    "# class ListNode:\n",
    "#     def __init__(self, val=0, next=None):\n",
    "#         self.val = val\n",
    "#         self.next = next\n",
    "class Solution: ## two pointer\n",
    "    def isPalindrome(self, head):\n",
    "        vals=[]\n",
    "        current_node=head\n",
    "        while current_node is not None:\n",
    "            vals.append(current_node.val)\n",
    "            current_node = current_node.next\n",
    "        return vals==vals[::-1]       "
   ]
  },
  {
   "cell_type": "markdown",
   "id": "3d2d08e7",
   "metadata": {},
   "source": [
    "## Implement Queue using stacks 12/06/21"
   ]
  },
  {
   "cell_type": "code",
   "execution_count": 1,
   "id": "6bcec63d",
   "metadata": {},
   "outputs": [],
   "source": [
    "class MyQueue:\n",
    "\n",
    "    def __init__(self):\n",
    "        self.s1=[]\n",
    "        self.s2=[]\n",
    "\n",
    "    def push(self, x):\n",
    "        while self.s1:\n",
    "            self.s2.append(self.s1.pop())\n",
    "        self.s1.append(x)\n",
    "        while self.s2:\n",
    "            self.s1.append(self.s2.pop())\n",
    "\n",
    "    def pop(self):\n",
    "        return self.s1.pop()\n",
    "\n",
    "    def peek(self):\n",
    "        return self.s1[-1]\n",
    "\n",
    "    def empty(self):\n",
    "        return not self.s1\n",
    "\n"
   ]
  },
  {
   "cell_type": "markdown",
   "id": "c274b4a7",
   "metadata": {},
   "source": [
    "## Lowest Common Ancestor of a Binary Search Tree 12/07/21\n",
    "Given a binary search tree (BST), find the lowest common ancestor (LCA) of two given nodes in the BST."
   ]
  },
  {
   "cell_type": "code",
   "execution_count": 3,
   "id": "89797326",
   "metadata": {},
   "outputs": [],
   "source": [
    "# Definition for a binary tree node.\n",
    "# class TreeNode:\n",
    "#     def __init__(self, x):\n",
    "#         self.val = x\n",
    "#         self.left = None\n",
    "#         self.right = None\n",
    "\n",
    "class Solution:## O(N), O(N)\n",
    "    def lowestCommonAncestor(self, root, p, q):\n",
    "        parent_val = root.val\n",
    "        p_val=p.val\n",
    "        q_val=q.val\n",
    "        if p_val>parent_val and q_val >parent_val:\n",
    "            return self.lowestCommonAncestor(root.right, p, q)\n",
    "        elif p_val < parent_val and q_val < parent_val:\n",
    "            return self.lowestCommonAncestor(root.left, p, q)\n",
    "        else:\n",
    "            return root        "
   ]
  },
  {
   "cell_type": "markdown",
   "id": "9c13de6a",
   "metadata": {},
   "source": [
    "## Delete Node in a Linked List 12/08/21\n",
    "Write a function to delete a node in a singly-linked list. You will not be given access to the head of the list, instead you will be given access to the node to be deleted directly.\n",
    "We can't really delete the node, but we can kinda achieve the same effect by instead removing the next node after copying its data into the node that we were asked to delete."
   ]
  },
  {
   "cell_type": "code",
   "execution_count": 1,
   "id": "21a07758",
   "metadata": {},
   "outputs": [],
   "source": [
    "# Definition for singly-linked list.\n",
    "# class ListNode:\n",
    "#     def __init__(self, x):\n",
    "#         self.val = x\n",
    "#         self.next = None\n",
    "\n",
    "class Solution:\n",
    "    def deleteNode(self, node):\n",
    "        \"\"\"\n",
    "        :type node: ListNode\n",
    "        :rtype: void Do not return anything, modify node in-place instead.\n",
    "        \"\"\"\n",
    "        node.val=node.next.val\n",
    "        node.next =node.next.next\n",
    "        "
   ]
  },
  {
   "cell_type": "markdown",
   "id": "1de13017",
   "metadata": {},
   "source": [
    "## Valid Anagram 12/08/21\n",
    "Given two strings s and t, return true if t is an anagram of s, and false otherwise."
   ]
  },
  {
   "cell_type": "code",
   "execution_count": 2,
   "id": "2bbccb5e",
   "metadata": {},
   "outputs": [],
   "source": [
    "class Solution:## sorted\n",
    "    def isAnagram(self, s, t):\n",
    "        return sorted(s)==sorted(t)"
   ]
  },
  {
   "cell_type": "code",
   "execution_count": 3,
   "id": "5278f579",
   "metadata": {},
   "outputs": [],
   "source": [
    "class Solution:## dictionary\n",
    "    def isAnagram(self, s, t):\n",
    "        dic1, dic2 = [0]*26,[0]*26\n",
    "        for item in s:\n",
    "            dic1[ord(item)-ord('a')]+=1\n",
    "        for item in t:\n",
    "            dic2[ord(item)-ord('a')]+=1\n",
    "        return dic1==dic2\n",
    "  "
   ]
  },
  {
   "cell_type": "markdown",
   "id": "15eb3bac",
   "metadata": {},
   "source": [
    "## Shortest Word Distance 12/09/21\n",
    "Given an array of strings wordsDict and two different strings that already exist in the array word1 and word2, return the shortest distance between these two words in the list."
   ]
  },
  {
   "cell_type": "code",
   "execution_count": 1,
   "id": "bb5a10ba",
   "metadata": {},
   "outputs": [],
   "source": [
    "class Solution:\n",
    "    def shortestDistance(self, wordsDict, word1, word2):\n",
    "        p1=p2=-1\n",
    "        min_d = len(wordsDict)\n",
    "        for i, w in enumerate(wordsDict):\n",
    "            if w ==word1:\n",
    "                p1=i\n",
    "            if w==word2:\n",
    "                p2=i\n",
    "            if -1 not in (p1,p2):\n",
    "                min_d = min(min_d, abs(p1-p2))\n",
    "        return min_d  "
   ]
  },
  {
   "cell_type": "markdown",
   "id": "9e0af1d5",
   "metadata": {},
   "source": [
    "## Strobogrammatic Number 12/10/21\n",
    "Given a string num which represents an integer, return true if num is a strobogrammatic number.\n",
    "A strobogrammatic number is a number that looks the same when rotated 180 degrees (looked at upside down)."
   ]
  },
  {
   "cell_type": "code",
   "execution_count": 1,
   "id": "fc394ce9",
   "metadata": {},
   "outputs": [],
   "source": [
    "class Solution:\n",
    "    def isStrobogrammatic(self, num):\n",
    "        rotated={'0': '0', '1': '1', '8': '8', '6': '9', '9': '6'}\n",
    "        rotated_string_builder=[]\n",
    "        \n",
    "        for c in reversed(num):\n",
    "            if c not in rotated:\n",
    "                return False\n",
    "            rotated_string_builder.append(rotated[c])\n",
    "        \n",
    "        rotated_string =\"\".join(rotated_string_builder)\n",
    "        return rotated_string == num\n",
    "        "
   ]
  },
  {
   "cell_type": "code",
   "execution_count": 2,
   "id": "8292cebd",
   "metadata": {},
   "outputs": [],
   "source": [
    "class Solution:\n",
    "    def isStrobogrammatic(self, num: str) -> bool:\n",
    "        return (set(num) & {'2', '3', '4', '5', '7'} == set()) and num == num[::-1].translate(str.maketrans('69', '96'))"
   ]
  },
  {
   "cell_type": "markdown",
   "id": "949e7f74",
   "metadata": {},
   "source": [
    "## Meeting Rooms 12/11/21\n",
    "Given an array of meeting time intervals where intervals[i] = [starti, endi], determine if a person could attend all meetings."
   ]
  },
  {
   "cell_type": "code",
   "execution_count": null,
   "id": "555c2de8",
   "metadata": {},
   "outputs": [],
   "source": [
    "class Solution:\n",
    "    def canAttendMeetings(self, intervals):\n",
    "        intervals.sort()#or intervals=sorted(intervals)\n",
    "        for i in range(len(intervals)-1):\n",
    "            if intervals[i][1]>intervals[i+1][0]:\n",
    "                return False\n",
    "        return True\n",
    "        "
   ]
  },
  {
   "cell_type": "code",
   "execution_count": null,
   "id": "749c1345",
   "metadata": {},
   "outputs": [],
   "source": [
    "class Solution:\n",
    "    def canAttendMeetings(self, intervals: List[List[int]]) -> bool:\n",
    "        def overlap(interval1: List[int], interval2: List[int]) -> bool:\n",
    "            return (interval1[0] >= interval2[0] and interval1[0] < interval2[1]\n",
    "                or interval2[0] >= interval1[0] and interval2[0] < interval1[1])\n",
    "\n",
    "        for i in range(len(intervals)):\n",
    "            for j in range(i + 1, len(intervals)):\n",
    "                if overlap(intervals[i], intervals[j]):\n",
    "                    return False\n",
    "        return True"
   ]
  },
  {
   "cell_type": "markdown",
   "id": "fc2f8cf2",
   "metadata": {},
   "source": [
    "## Binary Tree Paths 12/12/21\n",
    "Given the root of a binary tree, return all root-to-leaf paths in any order. O(N), O(N)"
   ]
  },
  {
   "cell_type": "code",
   "execution_count": 2,
   "id": "649bb287",
   "metadata": {},
   "outputs": [],
   "source": [
    "# Definition for a binary tree node.\n",
    "# class TreeNode:\n",
    "#     def __init__(self, val=0, left=None, right=None):\n",
    "#         self.val = val\n",
    "#         self.left = left\n",
    "#         self.right = right\n",
    "class Solution:\n",
    "    def binaryTreePaths(self, root):\n",
    "        def construct_paths(root, path):\n",
    "            if root:\n",
    "                path += str(root.val)\n",
    "                if not root.left and not root.right:  # if reach a leaf\n",
    "                    paths.append(path)  # update paths  \n",
    "                else:\n",
    "                    path += '->'  # extend the current path\n",
    "                    construct_paths(root.left, path)\n",
    "                    construct_paths(root.right, path)\n",
    "\n",
    "        paths = []\n",
    "        construct_paths(root, '')\n",
    "        return paths\n",
    "        "
   ]
  },
  {
   "cell_type": "markdown",
   "id": "c5e3e8bb",
   "metadata": {},
   "source": [
    "## Palindrome Permutation 12/13/21\n",
    "Given a string s, return true if a permutation of the string could form a palindrome."
   ]
  },
  {
   "cell_type": "code",
   "execution_count": 2,
   "id": "926098a5",
   "metadata": {},
   "outputs": [],
   "source": [
    "class Solution:\n",
    "    def canPermutePalindrome(self, s):\n",
    "        dic = {}\n",
    "        for item in s:\n",
    "            dic[item]=dic.get(item,0)+1\n",
    "        count1=0\n",
    "        for val in dic.values():\n",
    "            if val%2==1:\n",
    "                count1+=1\n",
    "            if count1>1:\n",
    "                return False\n",
    "        return True\n",
    "        "
   ]
  },
  {
   "cell_type": "markdown",
   "id": "c85f8068",
   "metadata": {},
   "source": [
    "## Trapping Rain Water 12/13/21\n",
    "Given n non-negative integers representing an elevation map where the width of each bar is 1, compute how much water it can trap after raining."
   ]
  },
  {
   "cell_type": "code",
   "execution_count": 5,
   "id": "33f7623d",
   "metadata": {},
   "outputs": [],
   "source": [
    "class Solution:\n",
    "    def trap(self, height):\n",
    "        if height == []:\n",
    "            return 0\n",
    "        n=len(height)\n",
    "        max_left, max_right=[0]*n, [0]*n\n",
    "        max_left[0]=0\n",
    "        max_right[n-1]=0\n",
    "        for i in range(1,n):\n",
    "            max_left[i]=max(max_left[i-1],height[i-1])\n",
    "        for i in range(n-2,-1,-1):\n",
    "            max_right[i]=max(max_right[i+1],height[i+1])\n",
    "        output = 0\n",
    "        print(max_left, max_right)\n",
    "        \n",
    "        for i in range(n):\n",
    "            lower_b = min(max_left[i], max_right[i])\n",
    "            max_trap_at_i = lower_b - height[i]\n",
    "            if max_trap_at_i>0:\n",
    "                output+=max_trap_at_i\n",
    "            \n",
    "        return output"
   ]
  },
  {
   "cell_type": "markdown",
   "id": "63475124",
   "metadata": {},
   "source": [
    "## Maximum Profit in Job Scheduling 12/14/21  DP+Binary search\n",
    "We have n jobs, where every job is scheduled to be done from startTime[i] to endTime[i], obtaining a profit of profit[i].\n",
    "\n",
    "You're given the startTime, endTime and profit arrays, return the maximum profit you can take such that there are no two jobs in the subset with overlapping time range.\n"
   ]
  },
  {
   "cell_type": "code",
   "execution_count": 1,
   "id": "83d96e93",
   "metadata": {},
   "outputs": [],
   "source": [
    "class Solution:\n",
    "    def jobScheduling(self, startTime, endTime, profit):\n",
    "        jobs = sorted(zip(startTime, endTime, profit),key = lambda v:v[1])\n",
    "        dpEndTime = [0]\n",
    "        dpProfit = [0]\n",
    "        for start, end, profit in jobs:\n",
    "            idx = self.bSearch(dpEndTime, start)\n",
    "            lastProfit = dpProfit[-1]\n",
    "            currProfit = dpProfit[idx-1]+profit\n",
    "            if currProfit > lastProfit:\n",
    "                dpEndTime.append(end)\n",
    "                dpProfit.append(currProfit)\n",
    "        return dpProfit[-1]\n",
    "    \n",
    "    def bSearch(self, dp, target):\n",
    "        left, right = 0, len(dp)\n",
    "        while left < right:\n",
    "            mid = (left+right)//2\n",
    "            \n",
    "            if dp[mid]<=target:\n",
    "                left = mid+1\n",
    "            else: \n",
    "                right=mid\n",
    "        return left "
   ]
  },
  {
   "cell_type": "markdown",
   "id": "9de83e46",
   "metadata": {},
   "source": [
    "## Generate Parentheses 12/16/21\n",
    "Given n pairs of parentheses, write a function to generate all combinations of well-formed parentheses."
   ]
  },
  {
   "cell_type": "code",
   "execution_count": 1,
   "id": "3a71162a",
   "metadata": {},
   "outputs": [],
   "source": [
    "class Solution:\n",
    "    def generateParenthesis(self, n):\n",
    "        \n",
    "        dp=[[]for i in range(n+1)]\n",
    "        dp[0].append('')\n",
    "        for i in range(n+1):\n",
    "            for j in range(i):\n",
    "                dp[i]+=['('+x+')'+y for x in dp[j] for y in dp[i-j-1]]\n",
    "        return dp[n]"
   ]
  },
  {
   "cell_type": "markdown",
   "id": "4eee5a50",
   "metadata": {},
   "source": [
    "## Minimum Number of Taps to Open to Water a Garden 12/17/21\n"
   ]
  },
  {
   "cell_type": "code",
   "execution_count": 6,
   "id": "d66b3cf4",
   "metadata": {},
   "outputs": [],
   "source": [
    "class Solution:\n",
    "    def minTaps(self, n, ranges):\n",
    "        start, end = 0,0\n",
    "        taps=0\n",
    "        while end<n:\n",
    "            for i in range(len(ranges)):\n",
    "                if i-ranges[i]<= start and i+ranges[i]>end:\n",
    "                    end=i+ranges[i]\n",
    "                if start ==end:\n",
    "                    return -1\n",
    "                taps+=1\n",
    "                start = end\n",
    "        return taps"
   ]
  },
  {
   "cell_type": "markdown",
   "id": "0f0a551d",
   "metadata": {},
   "source": [
    "## Binary Tree Maximum Path Sum 12/18/21"
   ]
  },
  {
   "cell_type": "code",
   "execution_count": 3,
   "id": "d901b987",
   "metadata": {},
   "outputs": [],
   "source": [
    "# Definition for a binary tree node.\n",
    "# class TreeNode:\n",
    "#     def __init__(self, val=0, left=None, right=None):\n",
    "#         self.val = val\n",
    "#         self.left = left\n",
    "#         self.right = right\n",
    "class Solution(object):\n",
    "    def maxPathSum(self, root):\n",
    "        \"\"\"\n",
    "        :type root: TreeNode\n",
    "        :rtype: int\n",
    "        \"\"\"\n",
    "        self.res = float('-inf')\n",
    "        self.helper(root)\n",
    "        return self.res \n",
    "        \n",
    "    def helper(self, root):\n",
    "        if not root:\n",
    "            return 0\n",
    "        left, right = self.helper(root.left), self.helper(root.right)\n",
    "        self.res = max(self.res, root.val + left + right)\n",
    "        return max(root.val + max(left, right), 0)"
   ]
  },
  {
   "cell_type": "markdown",
   "id": "3daaca69",
   "metadata": {},
   "source": [
    "## Dungeon Game 12/19/21"
   ]
  },
  {
   "cell_type": "code",
   "execution_count": 8,
   "id": "365319d4",
   "metadata": {},
   "outputs": [],
   "source": [
    "class Solution:\n",
    "    def calculateMinimumHP(self, dungeon):\n",
    "        m, n = len(dungeon), len(dungeon[0])\n",
    "        for i in range(m-1,-1,-1):\n",
    "            for j in range(n-1,-1,-1):\n",
    "                if i ==m-1 and j==n-1:\n",
    "                    dungeon[i][j]=min(dungeon[i][j],0)*-1+1\n",
    "                elif i ==m-1:\n",
    "                    dungeon[i][j]=max(dungeon[i][j+1]-dungeon[i][j],1)\n",
    "                elif j == n-1:\n",
    "                     dungeon[i][j]=max(dungeon[i+1][j]-dungeon[i][j],1)\n",
    "                else:\n",
    "                     dungeon[i][j]=max(min(dungeon[i][j+1], dungeon[i+1][j])-dungeon[i][j],1)\n",
    "        \n",
    "        return dungeon[0][0]"
   ]
  },
  {
   "cell_type": "markdown",
   "id": "55fcaff8",
   "metadata": {},
   "source": [
    "## Word Break 12/20/21\n",
    "Given a string s and a dictionary of strings wordDict, return true if s can be segmented into a space-separated sequence of one or more dictionary words. Time O(n^3) space O(n)"
   ]
  },
  {
   "cell_type": "code",
   "execution_count": 3,
   "id": "b926ba67",
   "metadata": {},
   "outputs": [],
   "source": [
    "class Solution:\n",
    "    def wordBreak(self, s, wordDict):\n",
    "        word_set=set(wordDict)\n",
    "        dp=[False]*(len(s)+1)\n",
    "        dp[0]=True\n",
    "        \n",
    "        for i in range(1,len(s)+1):\n",
    "            for j in range(i):\n",
    "                if dp[j] and s[j:i] in word_set:\n",
    "                    dp[i]=True\n",
    "                    break\n",
    "        return dp[len(s)]"
   ]
  },
  {
   "cell_type": "markdown",
   "id": "828c0b14",
   "metadata": {},
   "source": [
    "## Beautiful Arrangement 12/21/21"
   ]
  },
  {
   "cell_type": "code",
   "execution_count": 2,
   "id": "adb54ae8",
   "metadata": {},
   "outputs": [],
   "source": [
    "class Solution:\n",
    "    def countArrangement(self, N):\n",
    "        def count(i, X):\n",
    "            if i==1:\n",
    "                return 1\n",
    "            return sum(count(i-1, X-{x})\n",
    "                       for x in X\n",
    "                       if x%i ==0 or i%x ==0)\n",
    "        return count(N, set(range(1, N+1)))\n",
    "       "
   ]
  },
  {
   "cell_type": "markdown",
   "id": "3441cb26",
   "metadata": {},
   "source": [
    "## Count Unique Characters of All Substrings of a Given String 12/23/21"
   ]
  },
  {
   "cell_type": "code",
   "execution_count": null,
   "id": "ffe5dd8d",
   "metadata": {},
   "outputs": [],
   "source": [
    "class Solution:\n",
    "    def uniqueLetterString(self, s):\n",
    "        res = [0]*(len(s)+1)\n",
    "        idxs = [[-1,-1]]*26\n",
    "        for i, c in enumerate(s):\n",
    "            code = ord(c)-ord('A')\n",
    "            first, second = idxs[code]\n",
    "            res[i+1]=1+res[i]+(i-1-second)-(second-first)\n",
    "            idxs[code]=[second,i]\n",
    "        return sum(res)%(10**9+7)\n",
    "        "
   ]
  },
  {
   "cell_type": "markdown",
   "id": "6fb009fa",
   "metadata": {},
   "source": [
    "## Maximum Length of Repeated Subarray 12/25/21\n",
    "Given two integer arrays nums1 and nums2, return the maximum length of a subarray that appears in both arrays."
   ]
  },
  {
   "cell_type": "code",
   "execution_count": 1,
   "id": "d551bd2b",
   "metadata": {},
   "outputs": [],
   "source": [
    "class Solution:\n",
    "    def findLength(self, A, B):\n",
    "        memo = [[0 for x in range(len(B)+1)] for _ in range(len(A)+1)]\n",
    "        for i in range(len(A)-1,-1,-1):\n",
    "            for j in range(len(B)-1,-1,-1):\n",
    "                if A[i]==B[j]:\n",
    "                    memo[i][j]=memo[i+1][j+1]+1\n",
    "        return max(max(row) for row in memo)"
   ]
  },
  {
   "cell_type": "code",
   "execution_count": null,
   "id": "0826c36b",
   "metadata": {},
   "outputs": [],
   "source": [
    "class Solution:\n",
    "    def findLength(self, A, B):\n",
    "        n = len(A)\n",
    "        m=len(B)\n",
    "        if m==0 or n==0:\n",
    "            return 0\n",
    "        if n==1 and m==1:\n",
    "            if A[0]==B[0]:\n",
    "                return 1\n",
    "            else: \n",
    "                return 0\n",
    "            \n",
    "        dp=[[0 for x in range(m+1)] for y in range(n+1)]\n",
    "        final = 0\n",
    "        for i in range(1, n+1):\n",
    "            for j in range(1, m+1):\n",
    "                if A[i-1]==B[j-1]:\n",
    "                    dp[i][j]=1+dp[i-1][j-1]\n",
    "                    \n",
    "                else:\n",
    "                    dp[i][j]=0\n",
    "                final = max(final, dp[i][j])\n",
    "                \n",
    "        return final"
   ]
  },
  {
   "cell_type": "markdown",
   "id": "a6b9816a",
   "metadata": {},
   "source": [
    "## Longest String Chain 12/26/21"
   ]
  },
  {
   "cell_type": "code",
   "execution_count": 1,
   "id": "a50174e8",
   "metadata": {},
   "outputs": [],
   "source": [
    "class Solution:\n",
    "    def longestStrChain(self, words):\n",
    "        dp={}\n",
    "        for w in sorted(words, key=len):\n",
    "            dp[w]=max(dp.get(w[:i]+w[i+1:],0)+1 for i in range(len(w)))\n",
    "        return max(dp.values())"
   ]
  },
  {
   "cell_type": "markdown",
   "id": "11ddf3b4",
   "metadata": {},
   "source": [
    " ## Jump game 12/27/21"
   ]
  },
  {
   "cell_type": "code",
   "execution_count": 1,
   "id": "a27f9716",
   "metadata": {},
   "outputs": [],
   "source": [
    "class Solution:\n",
    "    def canJump(self, nums):\n",
    "        maxv =0\n",
    "        i = 0\n",
    "        while(i<=maxv):\n",
    "            maxv=max(maxv, i+nums[i])\n",
    "            if(maxv>=len(nums)-1):\n",
    "                return True\n",
    "            i=i+1\n",
    "        return False\n",
    "  "
   ]
  },
  {
   "cell_type": "markdown",
   "id": "2382a8c2",
   "metadata": {},
   "source": [
    "## Jump game II 12/31/21"
   ]
  },
  {
   "cell_type": "code",
   "execution_count": 2,
   "id": "ba3b9bad",
   "metadata": {},
   "outputs": [],
   "source": [
    "class Solution:\n",
    "    def jump(self, nums):\n",
    "        l=r=0\n",
    "        nJumps = 0\n",
    "        while r<len(nums)-1:\n",
    "            nJumps+=1\n",
    "            furthest = max([i+nums[i] for i in range(l,r+1)])\n",
    "            l,r=r+1,furthest\n",
    "        \n",
    "        return nJumps"
   ]
  },
  {
   "cell_type": "markdown",
   "id": "07370007",
   "metadata": {},
   "source": [
    "## Decode Ways 12/28/21"
   ]
  },
  {
   "cell_type": "code",
   "execution_count": 2,
   "id": "28bad7e3",
   "metadata": {},
   "outputs": [],
   "source": [
    "class Solution:\n",
    "    def numDecodings(self, s):\n",
    "        if len(s)==0 or s is None:\n",
    "            return 0\n",
    "        @lru_cache(maxsize=None)\n",
    "        def dfs(string):\n",
    "            if len(string)>0:\n",
    "                if string[0]=='0':\n",
    "                    return 0\n",
    "            if string ==\"\" or len(string)==1:\n",
    "                return 1\n",
    "            if int(string[0:2])<=26:\n",
    "                first = dfs(string[1:])\n",
    "                second=dfs(string[2:])\n",
    "                return first+second\n",
    "            else:\n",
    "                return dfs(string[1:])\n",
    "            \n",
    "        result_sum=dfs(s)\n",
    "        \n",
    "        return result_sum\n",
    " "
   ]
  },
  {
   "cell_type": "code",
   "execution_count": 3,
   "id": "a297845a",
   "metadata": {},
   "outputs": [],
   "source": [
    "class Solution:\n",
    "    def numDecodings(self, s):\n",
    "        if not s:\n",
    "            return 0\n",
    "        dp=[0 for x in range(len(s)+1)]\n",
    "        \n",
    "        dp[0]=1\n",
    "        dp[1]=0 if s[0]==\"0\" else 1\n",
    "        \n",
    "        for i in range(2, len(s)+1):\n",
    "            if 0<int(s[i-1:i])<=9:\n",
    "                dp[i]+=dp[i-1]\n",
    "            if 10<=int(s[i-2:i])<=26:\n",
    "                dp[i]+=dp[i-2]\n",
    "        return dp[len(s)]"
   ]
  },
  {
   "cell_type": "markdown",
   "id": "e6004b01",
   "metadata": {},
   "source": [
    "## Coin change 12/29/21"
   ]
  },
  {
   "cell_type": "code",
   "execution_count": null,
   "id": "c6b14c25",
   "metadata": {},
   "outputs": [],
   "source": [
    "class Solution:\n",
    "    def coinChange(self, coins, amount):\n",
    "        MAX = float('inf')\n",
    "        dp=[0]+[MAX]*amount\n",
    "        \n",
    "        for i in range(1, amount+1):\n",
    "            dp[i]=min([dp[i-c] if i-c>=0 else MAX for c in coins])+1\n",
    "        \n",
    "        if dp[-1]==float\n",
    "        return "
   ]
  },
  {
   "cell_type": "markdown",
   "id": "d773f729",
   "metadata": {},
   "source": [
    "## word break II 12/30/21"
   ]
  },
  {
   "cell_type": "code",
   "execution_count": 1,
   "id": "653a7860",
   "metadata": {},
   "outputs": [],
   "source": [
    "class Solution:\n",
    "    def wordBreak(self, s, wordDict):\n",
    "        return self.helper(s, wordDict, {})\n",
    "    \n",
    "    def helper(self, s, wordDict, memo):\n",
    "        if s in memo: return memo[s]\n",
    "        if not s: return []\n",
    "        \n",
    "        res=[]\n",
    "        for word in wordDict:\n",
    "            if not s.startswith(word):\n",
    "                continue\n",
    "\n",
    "            if len(word)==len(s):\n",
    "                res.append(word)\n",
    "            else:\n",
    "                resultOfTheRest = self.helper(s[len(word):],wordDict,memo)\n",
    "                for item in resultOfTheRest:\n",
    "                    item = word+''+item\n",
    "                    res.append(item)\n",
    "        memo[s]=res\n",
    "        \n",
    "        return res\n",
    "        "
   ]
  },
  {
   "cell_type": "code",
   "execution_count": null,
   "id": "0a35dbc7",
   "metadata": {},
   "outputs": [],
   "source": []
  }
 ],
 "metadata": {
  "kernelspec": {
   "display_name": "Python 3",
   "language": "python",
   "name": "python3"
  },
  "language_info": {
   "codemirror_mode": {
    "name": "ipython",
    "version": 3
   },
   "file_extension": ".py",
   "mimetype": "text/x-python",
   "name": "python",
   "nbconvert_exporter": "python",
   "pygments_lexer": "ipython3",
   "version": "3.8.8"
  }
 },
 "nbformat": 4,
 "nbformat_minor": 5
}
