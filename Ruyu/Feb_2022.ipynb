{
 "cells": [
  {
   "cell_type": "markdown",
   "id": "d3ccf431",
   "metadata": {},
   "source": [
    "## Valid Palindrome II 02/01/22"
   ]
  },
  {
   "cell_type": "code",
   "execution_count": 1,
   "id": "faebf837",
   "metadata": {},
   "outputs": [],
   "source": [
    "class Solution(object):#two-pointer \n",
    "    def validPalindrome(self, s):\n",
    "        \"\"\"\n",
    "        :type s: str\n",
    "        :rtype: bool\n",
    "        \"\"\"\n",
    "        # Time: O(n)\n",
    "        # Space: O(n)\n",
    "        left, right = 0, len(s)-1\n",
    "        while left<right:\n",
    "            if s[left]!=s[right]:\n",
    "                one, two = s[left:right], s[left+1:right+1]\n",
    "                return one==one[::-1] or two == two[::-1]\n",
    "            left,right=left+1,right-1\n",
    "        return True"
   ]
  },
  {
   "cell_type": "markdown",
   "id": "9acf2b72",
   "metadata": {},
   "source": [
    "## Fizz Buzz 02/02/22"
   ]
  },
  {
   "cell_type": "code",
   "execution_count": null,
   "id": "4ba93f31",
   "metadata": {},
   "outputs": [],
   "source": [
    "class Solution:\n",
    "    def fizzBuzz(self, n: int) -> List[str]:\n",
    "        ans=[]\n",
    "        for num in range(1,n+1):\n",
    "            div_by_3 = (num%3==0)\n",
    "            div_by_5 = (num%5==0)\n",
    "            if div_by_3 and div_by_5:\n",
    "                ans.append(\"FizzBuzz\")\n",
    "            elif div_by_3:\n",
    "                ans.append(\"Fizz\")\n",
    "            elif div_by_5:\n",
    "                ans.append('Buzz')\n",
    "            else: ans.append(str(num))\n",
    "        return ans\n",
    "  "
   ]
  },
  {
   "cell_type": "markdown",
   "id": "a740263e",
   "metadata": {},
   "source": [
    "## Missing number 02/03/22"
   ]
  },
  {
   "cell_type": "code",
   "execution_count": null,
   "id": "efb98b15",
   "metadata": {},
   "outputs": [],
   "source": [
    "class Solution:\n",
    "    def missingNumber(self, nums):\n",
    "        sum1=len(nums)*(len(nums)+1)//2\n",
    "        sum2=sum(nums)\n",
    "        return sum1-sum2"
   ]
  },
  {
   "cell_type": "markdown",
   "id": "2f05c9b2",
   "metadata": {},
   "source": [
    "## Pow(x,n) 02/05/2022 \n",
    "Implement pow(x, n), which calculates x raised to the power n (i.e., xn)."
   ]
  },
  {
   "cell_type": "code",
   "execution_count": 1,
   "id": "cbb546cf",
   "metadata": {},
   "outputs": [],
   "source": [
    "class Solution:\n",
    "    def myPow(self, x, n):\n",
    "        if n<0:\n",
    "            x=1/x\n",
    "            n=-n\n",
    "        pow=1\n",
    "        while n:\n",
    "            if n&1:\n",
    "                pow*=x\n",
    "            x*=x\n",
    "            n>>=1\n",
    "        return pow     "
   ]
  },
  {
   "cell_type": "markdown",
   "id": "0f6bf351",
   "metadata": {},
   "source": [
    "## K Closest Points to Origin 02/06/22"
   ]
  },
  {
   "cell_type": "code",
   "execution_count": 1,
   "id": "0245c6a9",
   "metadata": {},
   "outputs": [],
   "source": [
    "class Solution:\n",
    "    def kClosest(self, points, k):\n",
    "        points.sort(key=self.squared_distance)\n",
    "        \n",
    "        return points[:k]\n",
    "    def squared_distance(self, point):\n",
    "        return point[0]**2+point[1]**2"
   ]
  },
  {
   "cell_type": "markdown",
   "id": "42c7bce4",
   "metadata": {},
   "source": [
    "## Arranging Coins 02/07/22 Binary Search"
   ]
  },
  {
   "cell_type": "code",
   "execution_count": 1,
   "id": "6f04f66d",
   "metadata": {},
   "outputs": [],
   "source": [
    "class Solution:\n",
    "    def arrangeCoins(self, n):\n",
    "        left, right = 0, n\n",
    "        while left<= right:\n",
    "            k = (right+left)//2\n",
    "            curr = k*(k+1)//2\n",
    "            if curr==n:\n",
    "                return k\n",
    "            if n<curr:\n",
    "                right=k-1\n",
    "            else:\n",
    "                left = k+1\n",
    "        return right    "
   ]
  },
  {
   "cell_type": "code",
   "execution_count": 3,
   "id": "137c47ae",
   "metadata": {},
   "outputs": [],
   "source": [
    "class Solution:\n",
    "    def arrangeCoins(self, n):\n",
    "        return (int)((2*n+0.25)**0.5-0.5)"
   ]
  },
  {
   "cell_type": "markdown",
   "id": "f41711b6",
   "metadata": {},
   "source": [
    "## Rectangle Overlap 02/08/22"
   ]
  },
  {
   "cell_type": "code",
   "execution_count": 1,
   "id": "0c40792a",
   "metadata": {},
   "outputs": [],
   "source": [
    "class Solution:\n",
    "    def isRectangleOverlap(self, rec1, rec2):\n",
    "        A, B, C, D = rec1[0], rec1[1], rec1[2], rec1[3]\n",
    "        E, F, G, H = rec2[0], rec2[1], rec2[2], rec2[3]\n",
    "        x1 = max(A, E)\n",
    "        y1 = max(B, F)\n",
    "        x2 = min(C, G)\n",
    "        y2 = min(D, H)\n",
    "        if x1 < x2 and y1 < y2:\n",
    "            return True\n",
    "        return False\n",
    "  "
   ]
  },
  {
   "cell_type": "code",
   "execution_count": null,
   "id": "606afd95",
   "metadata": {},
   "outputs": [],
   "source": [
    "class Solution:\n",
    "    def isRectangleOverlap(self, rec1, rec2):\n",
    "        A, B, C, D = rec1[0], rec1[1], rec1[2], rec1[3]\n",
    "        E, F, G, H = rec2[0], rec2[1], rec2[2], rec2[3]\n",
    "        if A<G and E<C and B<H and F<D"
   ]
  },
  {
   "cell_type": "markdown",
   "id": "1b2d91c0",
   "metadata": {},
   "source": [
    "## Number of Days Between Two Dates 02/09/22"
   ]
  },
  {
   "cell_type": "code",
   "execution_count": 1,
   "id": "f2399ef8",
   "metadata": {},
   "outputs": [],
   "source": [
    "class Solution:\n",
    "    \n",
    "    def daysBetweenDates(self, date1, date2):\n",
    "        def f(date):\n",
    "            y, m, d = map(int, date.split('-'))\n",
    "            if m < 3:\n",
    "                m += 12\n",
    "                y -= 1\n",
    "            return 365 * y + y // 4 + y // 400 - y // 100 + d + (153 * m + 8) // 5\n",
    "        \n",
    "        return abs(f(date1) - f(date2))\n"
   ]
  },
  {
   "cell_type": "code",
   "execution_count": 2,
   "id": "db84e89b",
   "metadata": {},
   "outputs": [],
   "source": [
    "from datetime import datetime\n",
    "class Solution:\n",
    "    def daysBetweenDates(self, date1: str, date2: str) -> int:\n",
    "        return abs((datetime.strptime(date2, '%Y-%m-%d').date() - datetime.strptime(date1, '%Y-%m-%d').date()).days)"
   ]
  },
  {
   "cell_type": "markdown",
   "id": "0219078f",
   "metadata": {},
   "source": [
    "## Number of Good Pairs 02/10/22"
   ]
  },
  {
   "cell_type": "code",
   "execution_count": 2,
   "id": "896321e0",
   "metadata": {},
   "outputs": [],
   "source": [
    "class Solution:\n",
    "    def numIdenticalPairs(self, nums):\n",
    "        pairs=0\n",
    "        d={}\n",
    "        for i in nums:\n",
    "            if i in d:\n",
    "                d[i]+=1\n",
    "            else:\n",
    "                d[i]=1\n",
    "        for num in d:\n",
    "            val=d[num]\n",
    "            for i in range(val):\n",
    "                pairs+=i\n",
    "        return pairs "
   ]
  },
  {
   "cell_type": "code",
   "execution_count": null,
   "id": "023f479c",
   "metadata": {},
   "outputs": [],
   "source": [
    "def numIdenticalPairs(self, A):\n",
    "        return sum(k * (k - 1) / 2 for k in collections.Counter(A).values())"
   ]
  },
  {
   "cell_type": "markdown",
   "id": "dabc04d9",
   "metadata": {},
   "source": [
    "## High Five 02/19/22"
   ]
  },
  {
   "cell_type": "code",
   "execution_count": 3,
   "id": "d47cf9c6",
   "metadata": {},
   "outputs": [],
   "source": [
    "class Solution:\n",
    "    def highFive(self, items):\n",
    "        d = defaultdict(list)\n",
    "        for i in items: d[i[0]].append(i[1])\n",
    "        return([[key, int(sum(sorted(d[key], reverse=True)[:5])/5)] for key in sorted(d.keys())])\n",
    " "
   ]
  },
  {
   "cell_type": "markdown",
   "id": "b5a3c235",
   "metadata": {},
   "source": [
    "## Height Checker 02/20/2022"
   ]
  },
  {
   "cell_type": "code",
   "execution_count": 2,
   "id": "82ed2e5f",
   "metadata": {},
   "outputs": [],
   "source": [
    "class Solution:\n",
    "    def heightChecker(self, heights):\n",
    "        return sum(h1!=h2 for h1,h2 in zip(heights, sorted(heights)))"
   ]
  },
  {
   "cell_type": "code",
   "execution_count": null,
   "id": "d1831bfb",
   "metadata": {},
   "outputs": [],
   "source": []
  }
 ],
 "metadata": {
  "kernelspec": {
   "display_name": "Python 3",
   "language": "python",
   "name": "python3"
  },
  "language_info": {
   "codemirror_mode": {
    "name": "ipython",
    "version": 3
   },
   "file_extension": ".py",
   "mimetype": "text/x-python",
   "name": "python",
   "nbconvert_exporter": "python",
   "pygments_lexer": "ipython3",
   "version": "3.8.8"
  }
 },
 "nbformat": 4,
 "nbformat_minor": 5
}
