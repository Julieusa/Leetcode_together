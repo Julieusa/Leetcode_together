{
 "cells": [
  {
   "cell_type": "markdown",
   "id": "e7cd4bf3",
   "metadata": {},
   "source": [
    "## Mar 11, 2022\n",
    "# Range Sum of BST"
   ]
  },
  {
   "cell_type": "code",
   "execution_count": 2,
   "id": "0bf12245",
   "metadata": {},
   "outputs": [],
   "source": [
    "# Definition for a binary tree node.\n",
    "# class TreeNode:\n",
    "#     def __init__(self, val=0, left=None, right=None):\n",
    "#         self.val = val\n",
    "#         self.left = left\n",
    "#         self.right = right\n",
    "class Solution:\n",
    "    def rangeSumBST(self, root, L,R):\n",
    "        def dfs(node):\n",
    "            if node:\n",
    "                if L<= node.val<=R:\n",
    "                    self.ans+=node.val\n",
    "                if L <node.val:\n",
    "                    dfs(node.left)\n",
    "                if node.val<R:\n",
    "                    dfs(node.right)\n",
    "        \n",
    "        self.ans=0\n",
    "        dfs(root)\n",
    "        return self.ans"
   ]
  },
  {
   "cell_type": "markdown",
   "id": "7d237385",
   "metadata": {},
   "source": [
    "## March 20, 2022\n",
    "## How to sort a list in Python without sort function example"
   ]
  },
  {
   "cell_type": "code",
   "execution_count": 2,
   "id": "5fd584a7",
   "metadata": {},
   "outputs": [
    {
     "name": "stdout",
     "output_type": "stream",
     "text": [
      "[-2, -1, 0, 1, 2, 3, 4]\n"
     ]
    }
   ],
   "source": [
    "list = [4, 2, 3, -1, -2, 0, 1]\n",
    "\n",
    "for i in range(len(list)):\n",
    "    for j in range(i+1, len(list)):\n",
    "        if list[i]>list[j]:\n",
    "            list[i], list[j]=list[j], list[i]\n",
    "print(list)"
   ]
  },
  {
   "cell_type": "markdown",
   "id": "5d2a9505",
   "metadata": {},
   "source": [
    "## March 27 2022 switch ABC to number"
   ]
  },
  {
   "cell_type": "code",
   "execution_count": 1,
   "id": "6f6929c0",
   "metadata": {},
   "outputs": [],
   "source": [
    "class Solution:\n",
    "    def convertToTile(self, num):\n",
    "        capitals = [chr(x) for x in range(ord('A'), ord('Z')+1)]\n",
    "        result = []\n",
    "        \n",
    "        while num>0:\n",
    "            result.append(capitals[(num-1)%26])\n",
    "            num=(num-1)//26\n",
    "        result.reverse()\n",
    "        return ''.join(results)"
   ]
  },
  {
   "cell_type": "markdown",
   "id": "fec3d651",
   "metadata": {},
   "source": [
    "## March 29 2022 "
   ]
  },
  {
   "cell_type": "markdown",
   "id": "6c38497b",
   "metadata": {},
   "source": [
    "### Given a 2-D String array of student-marks find the student with the highest average and output his average score. If the average is in decimals, floor it down to the nearest integer.\n",
    "\n"
   ]
  },
  {
   "cell_type": "code",
   "execution_count": 1,
   "id": "8acb214c",
   "metadata": {},
   "outputs": [
    {
     "name": "stdout",
     "output_type": "stream",
     "text": [
      "99\n"
     ]
    }
   ],
   "source": [
    "'''\n",
    "Given a 2-D String array of student-marks find the student with the highest average and output his average score. If the average is in decimals, floor it down to the nearest integer.\n",
    "\n",
    "Example 1:\n",
    "----------\n",
    "Input:  [{\"Bob\",\"87\"}, {\"Mike\", \"35\"},{\"Bob\", \"52\"}, {\"Jason\",\"35\"}, {\"Mike\", \"55\"}, {\"Jessica\", \"99\"}]\n",
    "Output: 99\n",
    "Explanation: Since Jessica's average is greater than Bob's, Mike's and Jason's average.\n",
    "'''\n",
    "import math\n",
    "\n",
    "class Solution:\n",
    "    def maxAvgScore(self, scores):\n",
    "        maxAvg = -math.inf\n",
    "        if not scores: return maxAvg\n",
    "        grades = {}\n",
    "        \n",
    "        for name, score in scores:\n",
    "            if name not in grades:\n",
    "                grades[name] = [0,0]\n",
    "            grades[name][0] += int(score)\n",
    "            grades[name][1] += 1\n",
    "        \n",
    "        for val in grades.values():\n",
    "            maxAvg = max(maxAvg, val[0]//val[1])\n",
    "        \n",
    "        return maxAvg\n",
    "\n",
    "s = Solution()\n",
    "scores = [(\"Bob\",\"87\"), (\"Mike\", \"35\"),(\"Bob\", \"52\"), (\"Jason\",\"35\"), (\"Mike\", \"55\"), (\"Jessica\", \"99\")]\n",
    "print(s.maxAvgScore(scores))"
   ]
  },
  {
   "cell_type": "markdown",
   "id": "522f7cc4",
   "metadata": {},
   "source": [
    "## Power of three time O(log_3 n)space: O(1)"
   ]
  },
  {
   "cell_type": "code",
   "execution_count": 2,
   "id": "b08cc3a3",
   "metadata": {},
   "outputs": [],
   "source": [
    "class Solution(object):\n",
    "    def isPowerOfThree(self, n):\n",
    "        while n>2:\n",
    "            if n%3>0:\n",
    "                return False\n",
    "            n=n/3\n",
    "        return n==1"
   ]
  },
  {
   "cell_type": "markdown",
   "id": "6b48a013",
   "metadata": {},
   "source": [
    "## Valid Square "
   ]
  },
  {
   "cell_type": "code",
   "execution_count": 3,
   "id": "f1a4567d",
   "metadata": {},
   "outputs": [],
   "source": [
    "class Solution(object):\n",
    "    def validSquare(self, p1, p2, p3, p4):\n",
    "        \"\"\"\n",
    "        :type p1: List[int]\n",
    "        :type p2: List[int]\n",
    "        :type p3: List[int]\n",
    "        :type p4: List[int]\n",
    "        :rtype: bool\n",
    "        \"\"\"\n",
    "        if p1==p2==p3==p4: return False\n",
    "        def dist(x, y):\n",
    "            return (x[0]-y[0])**2 +(x[1]-y[1])**2\n",
    "        ls=[dist(p1,p2),dist(p1,p3),dist(p1,p4),dist(p2,p3),dist(p2,p4),dist(p3,p4)]\n",
    "        ls.sort()\n",
    "        if ls[0]==ls[1]==ls[2]==ls[3]:\n",
    "            if ls[4]==ls[5]:\n",
    "                return True\n",
    "        return False"
   ]
  },
  {
   "cell_type": "markdown",
   "id": "f8bbde28",
   "metadata": {},
   "source": [
    "## Move Zeros "
   ]
  },
  {
   "cell_type": "code",
   "execution_count": null,
   "id": "302ad9f2",
   "metadata": {},
   "outputs": [],
   "source": [
    " def moveZeroes(self, nums):\n",
    "        n = len(nums)\n",
    "        i = 0\n",
    "        for j in range(n):\n",
    "            if (nums[j] != 0):\n",
    "                nums[i], nums[j] = nums[j], nums[i]\n",
    "                i += 1"
   ]
  },
  {
   "cell_type": "markdown",
   "id": "3167c24c",
   "metadata": {},
   "source": [
    "## Number of Islands"
   ]
  },
  {
   "cell_type": "code",
   "execution_count": 4,
   "id": "ae0ae3a4",
   "metadata": {},
   "outputs": [],
   "source": [
    "class Solution(object):\n",
    "    def numIslands(self, grid):\n",
    "        if not grid:\n",
    "            return 0\n",
    "    \n",
    "        count = 0\n",
    "        for i in range(len(grid)):\n",
    "            for j in range(len(grid[0])):\n",
    "                if grid[i][j] == '1':\n",
    "                    self.dfs(grid, i, j)\n",
    "                    count += 1\n",
    "        return count\n",
    "    \n",
    "    def dfs(self, grid, i, j):\n",
    "        if i<0 or j<0 or i>=len(grid) or j>=len(grid[0]) or grid[i][j] != '1':\n",
    "            return\n",
    "        grid[i][j] = True\n",
    "        self.dfs(grid, i+1, j)\n",
    "        self.dfs(grid, i-1, j)\n",
    "        self.dfs(grid, i, j+1)\n",
    "        self.dfs(grid, i, j-1)"
   ]
  },
  {
   "cell_type": "markdown",
   "id": "96c4b31b",
   "metadata": {},
   "source": [
    "## Find Target Indices After Sorting Array"
   ]
  },
  {
   "cell_type": "code",
   "execution_count": null,
   "id": "61364b33",
   "metadata": {},
   "outputs": [],
   "source": [
    "class Solution(object):#O(nlogn)\n",
    "\n",
    "    def targetIndices(self, nums, target):\n",
    "        \"\"\"\n",
    "        :type nums: List[int]\n",
    "        :type target: int\n",
    "        :rtype: List[int]\n",
    "        \"\"\"\n",
    "        nums.sort()\n",
    "        ans=[]\n",
    "        for i in range(len(nums)):\n",
    "            if nums[i]==target:\n",
    "                ans.append(i)\n",
    "        return ans"
   ]
  },
  {
   "cell_type": "markdown",
   "id": "3096e909",
   "metadata": {},
   "source": [
    "##  First Unique Character in a String"
   ]
  },
  {
   "cell_type": "code",
   "execution_count": null,
   "id": "f91d6a2c",
   "metadata": {},
   "outputs": [],
   "source": [
    "class Solution:\n",
    "    def firstUniqChar(self, s: str) -> int:\n",
    "        \"\"\"\n",
    "        :type s: str\n",
    "        :rtype: int\n",
    "        \"\"\"\n",
    "        # build hash map : character and how often it appears\n",
    "        count = collections.Counter(s)\n",
    "        \n",
    "        # find the index\n",
    "        for idx, ch in enumerate(s):\n",
    "            if count[ch] == 1:\n",
    "                return idx     \n",
    "        return -1"
   ]
  }
 ],
 "metadata": {
  "kernelspec": {
   "display_name": "Python 3",
   "language": "python",
   "name": "python3"
  },
  "language_info": {
   "codemirror_mode": {
    "name": "ipython",
    "version": 3
   },
   "file_extension": ".py",
   "mimetype": "text/x-python",
   "name": "python",
   "nbconvert_exporter": "python",
   "pygments_lexer": "ipython3",
   "version": "3.8.8"
  }
 },
 "nbformat": 4,
 "nbformat_minor": 5
}
