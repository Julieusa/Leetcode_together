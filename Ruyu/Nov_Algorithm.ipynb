{
 "cells": [
  {
   "cell_type": "markdown",
   "id": "ec16bd0b",
   "metadata": {},
   "source": [
    "## Two sum 11/05/21\n",
    "Given an array of integers nums and an integer target, return indices of the two numbers such that they add up to target. Time: O(n); Memory: O(n)"
   ]
  },
  {
   "cell_type": "code",
   "execution_count": 1,
   "id": "171122b8",
   "metadata": {},
   "outputs": [],
   "source": [
    "class Solution(object):\n",
    "    def twoSum(self, nums, target):\n",
    "        # nums is a list here, target is int\n",
    "        required={} # An empty dictionary val: index\n",
    "        for i in range(len(nums)):\n",
    "            if target-nums[i] in required:\n",
    "                return [required[target-nums[i]],i]\n",
    "            else:\n",
    "                required[nums[i]]=i"
   ]
  },
  {
   "cell_type": "code",
   "execution_count": 2,
   "id": "154bc166",
   "metadata": {},
   "outputs": [
    {
     "name": "stdout",
     "output_type": "stream",
     "text": [
      "[1, 2]\n"
     ]
    }
   ],
   "source": [
    "### toy example\n",
    "input_list=[2,8,12,15]\n",
    "ob1=Solution()\n",
    "print(ob1.twoSum(input_list,20))"
   ]
  },
  {
   "cell_type": "markdown",
   "id": "76097ffa",
   "metadata": {},
   "source": [
    "## Palindrome Number 11/05/21\n",
    "Determine whether an integer is a palindrome. An integer is a palindrome when it reads the same backward as forward.\n",
    "Follow up: Could you solve it without converting the integer to a string?\n",
    "Time: O(n); space: O(1)\n",
    "Booleans represent one of two values: True or False."
   ]
  },
  {
   "cell_type": "code",
   "execution_count": 3,
   "id": "c3b16c2f",
   "metadata": {},
   "outputs": [],
   "source": [
    "class Solution:\n",
    "    def isPalindrome(self, x):\n",
    "            rev = 0\n",
    "            init_n = x\n",
    "            if x < 0:\n",
    "              return False\n",
    "            while x > 0:\n",
    "                    rev = (rev*10) +  x % 10\n",
    "                    x = x // 10\n",
    "            return rev == init_n"
   ]
  },
  {
   "cell_type": "code",
   "execution_count": 4,
   "id": "39077fdb",
   "metadata": {},
   "outputs": [
    {
     "data": {
      "text/plain": [
       "False"
      ]
     },
     "execution_count": 4,
     "metadata": {},
     "output_type": "execute_result"
    }
   ],
   "source": [
    "ob1=Solution()\n",
    "ob1.isPalindrome(100)"
   ]
  },
  {
   "cell_type": "markdown",
   "id": "5ed138c3",
   "metadata": {},
   "source": [
    "## Reverse Integer 11/05/21 \n",
    "Given a 32-bit signed integer, reverse digits of an integer. negative just add - in the front and treated as positive integer. Follow-up: how to do non-interger reverse?"
   ]
  },
  {
   "cell_type": "code",
   "execution_count": 111,
   "id": "5dbd399e",
   "metadata": {},
   "outputs": [],
   "source": [
    "class Solution:\n",
    "    def reverse(self, x: int) -> int:\n",
    "        sum = 0\n",
    "        temp = abs(x)\n",
    "        while temp>0:\n",
    "            sum = (sum*10) + (temp%10)\n",
    "            temp = temp//10\n",
    "        \n",
    "        if sum >= -(2**31) and sum <= ((2**31)-1):\n",
    "            if x<0:\n",
    "                sum = -1*sum\n",
    "                return sum\n",
    "            else:\n",
    "                return sum\n",
    "        else:\n",
    "            return 0"
   ]
  },
  {
   "cell_type": "code",
   "execution_count": 116,
   "id": "8bebdf17",
   "metadata": {},
   "outputs": [
    {
     "data": {
      "text/plain": [
       "-4321"
      ]
     },
     "execution_count": 116,
     "metadata": {},
     "output_type": "execute_result"
    }
   ],
   "source": [
    "ob1 = Solution()\n",
    "ob1.reverse(-1234)"
   ]
  },
  {
   "cell_type": "markdown",
   "id": "ffeee257",
   "metadata": {},
   "source": [
    "## Roman to Integer python 11/06/21\n",
    "I 1,V  5, X 10, L 50, C 100, D 500, M 1000 change string to number \n",
    "if some substring is present in the table, then take its value into result, then check for the next, for next match, it adds the value with the result, finally forms the number."
   ]
  },
  {
   "cell_type": "code",
   "execution_count": 121,
   "id": "5448bcbe",
   "metadata": {},
   "outputs": [],
   "source": [
    "class Solution:\n",
    "    def romanToInt(self, s: str):\n",
    "        roman ={'I':1,'V':5,'X':10,'L':50,'C':100,'D':500,'M':1000,'IV':4,'IX':9,'XL':40,'XC':90,'CD':400,'CM':900}\n",
    "        i=0\n",
    "        num=0\n",
    "        while i<len(s):\n",
    "            #print(i)\n",
    "            if i+1<len(s) and s[i:i+2] in roman:\n",
    "                num=num+roman[s[i:i+2]]\n",
    "                i=i+2\n",
    "            else:\n",
    "                num=num+roman[s[i]]\n",
    "                i=i+1\n",
    "        return num"
   ]
  },
  {
   "cell_type": "code",
   "execution_count": 122,
   "id": "94aec3eb",
   "metadata": {},
   "outputs": [
    {
     "name": "stdout",
     "output_type": "stream",
     "text": [
      "0\n",
      "2\n",
      "4\n"
     ]
    },
    {
     "data": {
      "text/plain": [
       "1340"
      ]
     },
     "execution_count": 122,
     "metadata": {},
     "output_type": "execute_result"
    }
   ],
   "source": [
    "ob=Solution()\n",
    "ob.romanToInt('CMCDXL')"
   ]
  },
  {
   "cell_type": "markdown",
   "id": "eef84f6f",
   "metadata": {},
   "source": [
    "## Longest Common Prefix 11/06/21\n",
    "Write a function to find the longest common prefix string amongst an array of strings. If there is no common prefix, return an empty string \"\"."
   ]
  },
  {
   "cell_type": "code",
   "execution_count": 153,
   "id": "47ae0ab3",
   "metadata": {},
   "outputs": [],
   "source": [
    "class Solution:\n",
    "    def longestCommonPrefix(self, strs):\n",
    "        if not strs: return \"\"\n",
    "        s1=min(strs)\n",
    "        s2=max(strs)\n",
    "        for i, c in enumerate(s1):\n",
    "            if c != s2[i]:\n",
    "                return s1[:i]\n",
    "        return s1"
   ]
  },
  {
   "cell_type": "code",
   "execution_count": 154,
   "id": "a792404f",
   "metadata": {},
   "outputs": [
    {
     "data": {
      "text/plain": [
       "''"
      ]
     },
     "execution_count": 154,
     "metadata": {},
     "output_type": "execute_result"
    }
   ],
   "source": [
    "ob=Solution()\n",
    "ob.longestCommonPrefix([\"hello\",\"whhhh\",\"hoo\",\"fhhhhh\"])"
   ]
  },
  {
   "cell_type": "markdown",
   "id": "a166aa60",
   "metadata": {},
   "source": [
    "## Valid Parentheses  11/06/21\n",
    "An input string is valid if:\n",
    "\n",
    "Open brackets must be closed by the same type of brackets.\n",
    "Open brackets must be closed in the correct order.\n",
    "replace valid parentheses with '' just need to check the length in the end"
   ]
  },
  {
   "cell_type": "code",
   "execution_count": 165,
   "id": "ce595dc8",
   "metadata": {},
   "outputs": [],
   "source": [
    "class Solution:\n",
    "    def isValid(self, s):\n",
    "        n = len(s)\n",
    "        if n==0:\n",
    "            return True\n",
    "        if n%2!=0:\n",
    "            return False\n",
    "        while '()' in s or '{}' in s or '[]' in s:\n",
    "            s=s.replace('()','').replace('{}','').replace('[]','')\n",
    "        return len(s)==0"
   ]
  },
  {
   "cell_type": "code",
   "execution_count": 166,
   "id": "bd762f56",
   "metadata": {},
   "outputs": [
    {
     "data": {
      "text/plain": [
       "False"
      ]
     },
     "execution_count": 166,
     "metadata": {},
     "output_type": "execute_result"
    }
   ],
   "source": [
    "ob=Solution()\n",
    "ob.isValid(['([)]'])"
   ]
  },
  {
   "cell_type": "markdown",
   "id": "c7162dbb",
   "metadata": {},
   "source": [
    "## Merge Two Sorted Lists to a sorted list 11/07/21\n",
    "Merge two sorted linked lists and return it as a sorted list. The list should be made by splicing together the nodes of the first two lists. Doing in a recursive way\n",
    "Def: A linked list is a linear collection of data elements whose order is not given by their physical placement in memory. Instead, each element points to the next.\n",
    "time: O(n + m)"
   ]
  },
  {
   "cell_type": "code",
   "execution_count": 169,
   "id": "e48309f5",
   "metadata": {},
   "outputs": [],
   "source": [
    "#### hahhaha no extend here\n",
    "class Solution:\n",
    "    def mergeTwoLists(self, l1, l2):\n",
    "        a=l1.extend(l2)\n",
    "        return sorted(a)"
   ]
  },
  {
   "cell_type": "code",
   "execution_count": 170,
   "id": "5a71d720",
   "metadata": {},
   "outputs": [],
   "source": [
    "class ListNode:#O(m+n) O(m+n)\n",
    "    def __init__(self, val, next=None):\n",
    "        self.val = val\n",
    "        self.next = next\n",
    "class Solution:\n",
    "    def mergeTwoLists(self, l1, l2):\n",
    "        if l2 is None:\n",
    "            return l1\n",
    "        if l1 is None:\n",
    "            return l2\n",
    "        elif l1.val<l2.val:\n",
    "            l1.next = self.mergeTwoLists(l1.next,l2)\n",
    "            return l1\n",
    "        else:\n",
    "            l2.next = self.mergeTwoLists(l1,l2.next)\n",
    "            return l2"
   ]
  },
  {
   "cell_type": "markdown",
   "id": "d999e6e7",
   "metadata": {},
   "source": [
    "## Remove Duplicates from Sorted Array 11/07/21 two-pointer\n",
    "Given an integer array nums sorted in non-decreasing order, remove the duplicates in-place such that each unique element appears only once. The relative order of the elements should be kept the same. Time: O(n), space: O(1)"
   ]
  },
  {
   "cell_type": "code",
   "execution_count": 173,
   "id": "081a610a",
   "metadata": {},
   "outputs": [],
   "source": [
    "class Solution:\n",
    "    def removeDuplicates(self, nums):\n",
    "        if len(nums)==0:\n",
    "            return 0\n",
    "        res = 1\n",
    "        for i in range(1, len(nums)):\n",
    "            if nums[i] != nums[i-1]:\n",
    "                nums[res]=nums[i]\n",
    "                res = res+1\n",
    "        return res\n",
    "            "
   ]
  },
  {
   "cell_type": "markdown",
   "id": "e6531f60",
   "metadata": {},
   "source": [
    "## Remove Element 11/07/21 two-pointer again!\n",
    "Given an integer array nums and an integer val, remove all occurrences of val in nums in-place. The relative order of the elements may be changed."
   ]
  },
  {
   "cell_type": "code",
   "execution_count": 174,
   "id": "8f594af1",
   "metadata": {},
   "outputs": [],
   "source": [
    "class Solution:\n",
    "    def removeElement(self, nums, val):\n",
    "        if len(nums)==0:\n",
    "            return 0\n",
    "        res = 0\n",
    "        for i in range(len(nums)):\n",
    "            if nums[i]!=val:\n",
    "                nums[res]=nums[i]\n",
    "                res = res+1\n",
    "        return res"
   ]
  },
  {
   "cell_type": "markdown",
   "id": "2306da40",
   "metadata": {},
   "source": [
    "## Implement strStr() string matching & two-pointer 11/07/21\n",
    "Return the index of the first occurrence of needle in haystack, or -1 if needle is not part of haystack.\n",
    "we will return 0 when needle is an empty string."
   ]
  },
  {
   "cell_type": "code",
   "execution_count": 190,
   "id": "fd04b134",
   "metadata": {},
   "outputs": [],
   "source": [
    "class Solution:\n",
    "    def strStr(self, haystack, needle):\n",
    "        if needle=='':\n",
    "            return 0\n",
    "        for i in range(len(haystack)-len(needle)+1):\n",
    "            if haystack[i:(i+len(needle))]==needle:\n",
    "                return i # return index here\n",
    "        return -1"
   ]
  },
  {
   "cell_type": "code",
   "execution_count": 191,
   "id": "900ef35c",
   "metadata": {},
   "outputs": [
    {
     "data": {
      "text/plain": [
       "0"
      ]
     },
     "execution_count": 191,
     "metadata": {},
     "output_type": "execute_result"
    }
   ],
   "source": [
    "ob = Solution()\n",
    "ob.strStr('a','a')"
   ]
  },
  {
   "cell_type": "markdown",
   "id": "27189257",
   "metadata": {},
   "source": [
    "## Search Insert Position Binary search 11/08/21\n",
    "Given a sorted array of distinct integers and a target value, return the index if the target is found. If not, return the index where it would be if it were inserted in order. You must write an algorithm with O(log n) runtime complexity"
   ]
  },
  {
   "cell_type": "code",
   "execution_count": 192,
   "id": "612c7e53",
   "metadata": {},
   "outputs": [],
   "source": [
    "## only work for no duplicated\n",
    "class Solution:\n",
    "    def searchInsert(self, nums, target):\n",
    "        if len(nums)==0:\n",
    "            return 0\n",
    "        \n",
    "        left, right = 0, len(nums)-1\n",
    "        while (left <= right):\n",
    "            mid=(left+right)//2\n",
    "            if nums[mid]==target:\n",
    "                return mid\n",
    "            if nums[mid]>target:\n",
    "                right =mid-1\n",
    "            else: left = mid +1\n",
    "        return left      "
   ]
  },
  {
   "cell_type": "code",
   "execution_count": 193,
   "id": "e21a1ade",
   "metadata": {},
   "outputs": [],
   "source": [
    "class Solution:\n",
    "    def searchInsert(self, nums, target):\n",
    "        if len(nums)==0:\n",
    "            return 0\n",
    "        \n",
    "        left, right = 0, len(nums)-1\n",
    "        while (left <= right):\n",
    "            mid=(left+right)//2\n",
    "            if nums[mid]<target:\n",
    "                left=mid+1\n",
    "            else: \n",
    "                if nums[mid]==target and nums[mid-1]!=target:\n",
    "                    return mid\n",
    "                else: right=mid-1\n",
    "        return left      "
   ]
  },
  {
   "cell_type": "markdown",
   "id": "e76fdd8e",
   "metadata": {},
   "source": [
    "### Maximum Subarray 11/08/21\n",
    "Given an integer array nums, find the contiguous subarray (containing at least one number) which has the largest sum and return its sum. A subarray is a contiguous part of an array."
   ]
  },
  {
   "cell_type": "code",
   "execution_count": 196,
   "id": "b86473e1",
   "metadata": {},
   "outputs": [],
   "source": [
    "### time is too long\n",
    "import math\n",
    "class Solution:\n",
    "    def maxSubArray(self, nums):\n",
    "        max_sub = -math.inf\n",
    "        for i in range(len(nums)):\n",
    "            current_sub = 0\n",
    "            for j in range(i, len(nums)):\n",
    "                current_sub = current_sub + nums[j]\n",
    "                max_sub = max(current_sub, max_sub)\n",
    "                \n",
    "        return max_sub # time O(n^2) space O(1)"
   ]
  },
  {
   "cell_type": "code",
   "execution_count": 202,
   "id": "1474456f",
   "metadata": {},
   "outputs": [],
   "source": [
    "### DP\n",
    "class Solution:\n",
    "    def maxSubArray(self, nums):\n",
    "        dp=[0]*len(nums)\n",
    "        for i, num in enumerate(nums):\n",
    "            dp[i]=max(dp[i-1]+num,num)\n",
    "        return max(dp) # time O(n)  space O(n)"
   ]
  },
  {
   "cell_type": "code",
   "execution_count": 203,
   "id": "99bf8f21",
   "metadata": {},
   "outputs": [],
   "source": [
    "# time O(n)  space O(1)\n",
    "class Solution:\n",
    "    def maxSubArray(self, nums):\n",
    "        current_sub = max_sub = nums[0]\n",
    "        for num in nums[1:]:\n",
    "            current_sub = max(num, current_sub+num)\n",
    "            max_sub = max(max_sub, current_sub)\n",
    "        return max_sub       "
   ]
  },
  {
   "cell_type": "markdown",
   "id": "47c6254b",
   "metadata": {},
   "source": [
    "## Length of Last Word 11/08/21\n",
    "Given a string s consisting of some words separated by some number of spaces, return the length of the last word in the string. Time: O(N) space: O(1)"
   ]
  },
  {
   "cell_type": "code",
   "execution_count": null,
   "id": "5937d0e9",
   "metadata": {},
   "outputs": [],
   "source": [
    "class Solution:\n",
    "    def lengthOfLastWord(self, s):\n",
    "        p=len(s)-1\n",
    "        while p>=0 and s[p]==' ':\n",
    "            p=p-1\n",
    "            \n",
    "        length=0\n",
    "        while p>=0 and s[p]!=' ':\n",
    "            p=p-1\n",
    "            length=length+1\n",
    "        return length"
   ]
  },
  {
   "cell_type": "markdown",
   "id": "efcbdf33",
   "metadata": {},
   "source": [
    "## Plus one 11/10/21\n",
    "You are given a large integer represented as an integer array digits, where each digits[i] is the ith digit of the integer. The digits are ordered from most significant to least significant in left-to-right order. The large integer does not contain any leading 0's.\n",
    "\n",
    "Increment the large integer by one and return the resulting array of digits."
   ]
  },
  {
   "cell_type": "code",
   "execution_count": 1,
   "id": "460f79dc",
   "metadata": {},
   "outputs": [],
   "source": [
    "class Solution:\n",
    "    def plusOne(self, digits):\n",
    "        length = len(digits)-1\n",
    "        while digits[length]==9:\n",
    "            digits[length]=0\n",
    "            lengt-=1\n",
    "        if(length<0):\n",
    "            digits=[1]+digits\n",
    "        else:\n",
    "            digits[length]+=1\n",
    "        return digits      "
   ]
  },
  {
   "cell_type": "markdown",
   "id": "f38e28ae",
   "metadata": {},
   "source": [
    "## Add Binary 11/10/21\n",
    "Given two binary strings a and b, return their sum as a binary string.\n",
    "###### '{}'.format(100)  # Out: '100' converted integer that num referred to into a string\n",
    "##### '{:b}' is for converting the argument to a binary form.{1:b} is the second argument. {0:b} is the first.\n"
   ]
  },
  {
   "cell_type": "code",
   "execution_count": 4,
   "id": "c3079303",
   "metadata": {},
   "outputs": [],
   "source": [
    "class Solution:\n",
    "    def addBinary(self, a, b):\n",
    "        return '{0:b}'.format(int(a,2)+int(b,2))"
   ]
  },
  {
   "cell_type": "code",
   "execution_count": 5,
   "id": "345e9586",
   "metadata": {},
   "outputs": [
    {
     "data": {
      "text/plain": [
       "'1010'"
      ]
     },
     "execution_count": 5,
     "metadata": {},
     "output_type": "execute_result"
    }
   ],
   "source": [
    "a='11'\n",
    "b='111'\n",
    "'{0:b}'.format(int(a,2)+int(b,2))"
   ]
  },
  {
   "cell_type": "code",
   "execution_count": 6,
   "id": "f57bef2f",
   "metadata": {},
   "outputs": [
    {
     "name": "stdout",
     "output_type": "stream",
     "text": [
      "Edureka is a good option for beginners in python\n"
     ]
    }
   ],
   "source": [
    "my_string = \"{} is a good option for beginners in python\"\n",
    "print(my_string.format(\"Edureka\"))"
   ]
  },
  {
   "cell_type": "code",
   "execution_count": 7,
   "id": "e53024eb",
   "metadata": {},
   "outputs": [
    {
     "data": {
      "text/plain": [
       "'10100, 0'"
      ]
     },
     "execution_count": 7,
     "metadata": {},
     "output_type": "execute_result"
    }
   ],
   "source": [
    "\"{1:b}, {0:b}\".format(0, 20)"
   ]
  },
  {
   "cell_type": "code",
   "execution_count": 8,
   "id": "cdb7c02a",
   "metadata": {},
   "outputs": [
    {
     "data": {
      "text/plain": [
       "'106'"
      ]
     },
     "execution_count": 8,
     "metadata": {},
     "output_type": "execute_result"
    }
   ],
   "source": [
    "\"{}\".format(106)"
   ]
  },
  {
   "cell_type": "markdown",
   "id": "0e1f15ba",
   "metadata": {},
   "source": [
    "## Sqrt x HARD 11/10/21\n",
    "Given a non-negative integer x, compute and return the square root of x.\n",
    "\n",
    "Since the return type is an integer, the decimal digits are truncated, and only the integer part of the result is returned."
   ]
  },
  {
   "cell_type": "code",
   "execution_count": 44,
   "id": "ec399ddf",
   "metadata": {},
   "outputs": [],
   "source": [
    "### binary search\n",
    "class Solution:\n",
    "    def mySqrt(self, x):\n",
    "        if x<2:\n",
    "            return x\n",
    "        left, right = 2, x\n",
    "        \n",
    "        while left<=right:\n",
    "            p=(left+right)//2\n",
    "            if (p*p<=x and (p+1)*(p+1)>x):\n",
    "                return p\n",
    "            elif p*p< x:\n",
    "                left = p+1\n",
    "            else:\n",
    "                right = p-1\n",
    "        return left"
   ]
  },
  {
   "cell_type": "code",
   "execution_count": 45,
   "id": "057ba640",
   "metadata": {},
   "outputs": [],
   "source": [
    "## Recursion + Bit Shifts  time: O(logN), space:O(logN)\n",
    "class Solution:\n",
    "    def mySqrt(self, x):\n",
    "        if x<2:\n",
    "            return x\n",
    "        \n",
    "        left = self.mySqrt(x>>2)<<1\n",
    "        right = left+1\n",
    "        return left if right*right >x else right\n",
    "# x << y\n",
    "#Returns x with the bits shifted to the left by y places (and new bits on the right-hand-side are zeros). This is the same as multiplying x by 2**y.\n",
    "#x >> y\n",
    "#Returns x with the bits shifted to the right by y places. This is the same as //'ing x by 2**y."
   ]
  },
  {
   "cell_type": "markdown",
   "id": "c81a33c0",
   "metadata": {},
   "source": [
    "## Climbing Stairs Fibonacci Growth 11/11/21\n",
    "You are climbing a staircase. It takes n steps to reach the top.\n",
    "Each time you can either climb 1 or 2 steps. In how many distinct ways can you climb to the top?"
   ]
  },
  {
   "cell_type": "code",
   "execution_count": 54,
   "id": "c600ab6e",
   "metadata": {},
   "outputs": [],
   "source": [
    "# Time: O(n) Space: O(1)\n",
    "class Solution:\n",
    "    def climbStairs(self, n):\n",
    "        a=1\n",
    "        b=0\n",
    "        for i in range(n):\n",
    "            a,b=a+b,a\n",
    "        return a"
   ]
  },
  {
   "cell_type": "code",
   "execution_count": 70,
   "id": "40c7f8ed",
   "metadata": {},
   "outputs": [],
   "source": [
    "### DP time, space: O(n)\n",
    "class Solution:\n",
    "    def climbStairs(self, n):\n",
    "        if n==1:\n",
    "            return 1\n",
    "        dp=[0]*(n+1)\n",
    "        dp[1]=1\n",
    "        dp[2]=2\n",
    "        for i in range(3,n+1):\n",
    "            dp[i]=dp[i-1]+dp[i-2]\n",
    "        return dp[n]"
   ]
  },
  {
   "cell_type": "markdown",
   "id": "0a6ff4d0",
   "metadata": {},
   "source": [
    "## Remove Duplicates from Sorted List 11/11/21\n",
    "Given the head of a sorted linked list, delete all duplicates such that each element appears only once. Return the linked list sorted as well. Time Complexity: O(N). Space Complexity: O(N)."
   ]
  },
  {
   "cell_type": "code",
   "execution_count": 78,
   "id": "1400b8df",
   "metadata": {},
   "outputs": [],
   "source": [
    "# Definition for singly-linked list.\n",
    "class ListNode:\n",
    "     def __init__(self, val=0, next=None):\n",
    "        self.val = val\n",
    "        self.next = next\n",
    "class Solution:\n",
    "     @staticmethod\n",
    "     def deleteDuplicates(head):\n",
    "            if not head:\n",
    "                return None\n",
    "            curr = head\n",
    "            while curr.next:\n",
    "                if curr.val == curr.next.val:\n",
    "                    curr.next = curr.next.next\n",
    "                else:\n",
    "                    curr=curr.next\n",
    "                #print(head)\n",
    "            return head    \n"
   ]
  },
  {
   "cell_type": "markdown",
   "id": "17234f94",
   "metadata": {},
   "source": [
    "#### test class"
   ]
  },
  {
   "cell_type": "code",
   "execution_count": 79,
   "id": "f223043d",
   "metadata": {},
   "outputs": [],
   "source": [
    "import copy\n",
    "\n",
    "def list_to_linked_list(input_list):\n",
    "    current_node = ListNode(input_list[0], None)\n",
    "    head_pointer = ListNode(-1, current_node) # access head by using head_pointer.next\n",
    "    for val in input_list[1:]:\n",
    "        current_node.next = ListNode(val)\n",
    "        current_node = current_node.next \n",
    "    return head_pointer.next\n",
    "\n",
    "def linked_list_to_list(input_linked_list):\n",
    "    result_list = []\n",
    "    while input_linked_list.next is not None:\n",
    "        result_list.append(input_linked_list.val)\n",
    "        input_linked_list = input_linked_list.next \n",
    "    return result_list\n",
    "        \n",
    "def test_solution(input_list, target_list):\n",
    "    input_linked_list = list_to_linked_list(input_list)\n",
    "    solution_linked_list = Solution.deleteDuplicates(input_linked_list)\n",
    "    result_list = linked_list_to_list(solution_linked_list)\n",
    "    if result_list == target_list:\n",
    "        print(\"Example successful.\")\n",
    "    else:\n",
    "        print(\"Example failed.\")\n",
    "    print(\"Your solution:\")\n",
    "    print(solution_list)\n",
    "    print(\"Expected result:\")\n",
    "    print(target_list)"
   ]
  },
  {
   "cell_type": "code",
   "execution_count": 80,
   "id": "44a1dd4b",
   "metadata": {},
   "outputs": [
    {
     "name": "stdout",
     "output_type": "stream",
     "text": [
      "Example successful.\n",
      "Your solution:\n",
      "[1, 2, 3, 41]\n",
      "Expected result:\n",
      "[1, 2, 3, 41]\n"
     ]
    }
   ],
   "source": [
    "input_list = [1,2,3,41,2]\n",
    "target_list = [1,2,3,41]\n",
    "test_solution(input_list, target_list)"
   ]
  },
  {
   "cell_type": "code",
   "execution_count": 81,
   "id": "d25c67f5",
   "metadata": {},
   "outputs": [],
   "source": [
    "data = [1,1,2]\n",
    "tail=head=ListNode(data[0])\n",
    "for x in data[1:]:\n",
    "    tail.next = ListNode(x)\n",
    "    tail=tail.next"
   ]
  },
  {
   "cell_type": "markdown",
   "id": "e0cc7361",
   "metadata": {},
   "source": [
    "## Remove Duplicates from Sorted List II TO DO\n",
    "Given the head of a sorted linked list, delete all nodes that have duplicate numbers, leaving only distinct numbers from the original list. Return the linked list sorted as well."
   ]
  },
  {
   "cell_type": "code",
   "execution_count": null,
   "id": "b95ee9c6",
   "metadata": {},
   "outputs": [],
   "source": [
    "# Definition for singly-linked list.\n",
    "# class ListNode:\n",
    "#     def __init__(self, val=0, next=None):\n",
    "#         self.val = val\n",
    "#         self.next = next\n",
    "class Solution:\n",
    "    def deleteDuplicates(self, head):\n",
    "        "
   ]
  },
  {
   "cell_type": "markdown",
   "id": "5c126790",
   "metadata": {},
   "source": [
    "## Merge Sorted Array 11/12/21\n",
    "You are given two integer arrays nums1 and nums2, sorted in non-decreasing order, and two integers m and n, \n",
    "representing the number of elements in nums1 and nums2 respectively. Merge nums1 and nums2 into a single \n",
    "array sorted in non-decreasing order. The final sorted array should not be returned by the function, but instead be stored inside the array nums1. To accommodate this, nums1 has a length of m + n, where the first m elements denote the elements that should be merged, and the last n elements are set to 0 and should be ignored. nums2 has a length of n.\n",
    "Time: O((n+m)log(n+m)); space O(n)"
   ]
  },
  {
   "cell_type": "code",
   "execution_count": 84,
   "id": "6b8d7ca4",
   "metadata": {},
   "outputs": [],
   "source": [
    "class Solution:\n",
    "    def merge(self, nums1, m, nums2, n) -> None:\n",
    "        \"\"\"\n",
    "        Do not return anything, modify nums1 in-place instead.\n",
    "        \"\"\"\n",
    "        for i in range(n):\n",
    "            nums1[i+m] = nums2[i]\n",
    "        nums1.sort()"
   ]
  },
  {
   "cell_type": "markdown",
   "id": "f86247eb",
   "metadata": {},
   "source": [
    "## Binary Tree Inorder Traversal 11/13/21\n",
    "Given the root of a binary tree, return the inorder traversal of its nodes' values. DFS"
   ]
  },
  {
   "cell_type": "code",
   "execution_count": 86,
   "id": "f328929f",
   "metadata": {},
   "outputs": [],
   "source": [
    "## recursive\n",
    "# Definition for a binary tree node.\n",
    "# class TreeNode:\n",
    "#     def __init__(self, val=0, left=None, right=None):\n",
    "#         self.val = val\n",
    "#         self.left = left\n",
    "#         self.right = right\n",
    "class Solution:\n",
    "    def inorderTraversal(self, root):\n",
    "        if not root: return []\n",
    "        else: return self.inorderTraversal(root.left)+[root.val]+self.inorderTraversal(root.right)"
   ]
  },
  {
   "cell_type": "code",
   "execution_count": 87,
   "id": "5da2e1f1",
   "metadata": {},
   "outputs": [],
   "source": [
    "## iteration time O(n) space O(n)\n",
    "class Solution:\n",
    "    def inorderTraversal(self, root):\n",
    "        stack, res = [],[]\n",
    "        node = root\n",
    "        while node or stack:\n",
    "            while node:\n",
    "                stack.append(node)\n",
    "                node = node.left\n",
    "            node = stack.pop() #pop() The stack. pop() method removes the top element of the stack and returns it.\n",
    "            res.append(node.val)\n",
    "            # change the direction to the right direction after the left.children\n",
    "            # and parent are taken care of, which the inorder means.\n",
    "            node=node.right\n",
    "        return res"
   ]
  },
  {
   "cell_type": "markdown",
   "id": "638dd776",
   "metadata": {},
   "source": [
    "## Same Tree 11/13/21\n",
    "Given the roots of two binary trees p and q, write a function to check if they are the same or not.\n",
    "Two binary trees are considered the same if they are structurally identical, and the nodes have the same value.\n",
    "Time complexity :O(N), where N is a number of nodes in the tree, since one visits each node exactly once.\n",
    "Space complexity : O(log(N)) in the best case of completely balanced tree and O(N) in the worst case of completely unbalanced tree, to keep a recursion stack."
   ]
  },
  {
   "cell_type": "code",
   "execution_count": 88,
   "id": "a0db7ff4",
   "metadata": {},
   "outputs": [],
   "source": [
    "class Solution:\n",
    "    def isSameTree(self, p, q):\n",
    "        \"\"\"\n",
    "        :type p: TreeNode\n",
    "        :type q: TreeNode\n",
    "        :rtype: bool\n",
    "        \"\"\"    \n",
    "        if not p and not q:\n",
    "            return True\n",
    "        if not p or not q:\n",
    "            return False\n",
    "        if p.val != q.val:\n",
    "            return False\n",
    "        return self.isSameTree(p.right,q.right) and self.isSameTree(p.left,q.left)"
   ]
  },
  {
   "cell_type": "markdown",
   "id": "5c979f8a",
   "metadata": {},
   "source": [
    "## Symmetric Tree 11/13/21\n",
    "Given the root of a binary tree, check whether it is a mirror of itself (i.e., symmetric around its center)."
   ]
  },
  {
   "cell_type": "code",
   "execution_count": null,
   "id": "3b7c23c0",
   "metadata": {},
   "outputs": [],
   "source": [
    "# Definition for a binary tree node.\n",
    "# class TreeNode:\n",
    "#     def __init__(self, val=0, left=None, right=None):\n",
    "#         self.val = val\n",
    "#         self.left = left\n",
    "#         self.right = right\n",
    "class Solution:\n",
    "    def isSymmetric(self, root):\n",
    "        return self.isMirror(root.left, root.right)\n",
    "    def isMirror(self, t1, t2):\n",
    "        if not t1 and not t2:\n",
    "            return True\n",
    "        if not t1 or not t2:\n",
    "            return False\n",
    "        return t1.val==t2.val and self.isMirror(t1.left, t2.right) and self.isMirror(t1.right, t2.left)"
   ]
  },
  {
   "cell_type": "markdown",
   "id": "ccd269e1",
   "metadata": {},
   "source": [
    "## Longest Increasing Subsequence 11/13/21\n",
    "Given an integer array nums, return the length of the longest strictly increasing subsequence."
   ]
  },
  {
   "cell_type": "code",
   "execution_count": 90,
   "id": "6768f4ac",
   "metadata": {},
   "outputs": [],
   "source": [
    "## DP time: O(n^2), space: O(n)\n",
    "class Solution:\n",
    "    def lengthOfLIS(self, nums):\n",
    "        if not nums:\n",
    "            return 0\n",
    "        dp=[1]*len(nums)\n",
    "        for i in range(1, len(nums)):\n",
    "            for j in range(i):\n",
    "                if nums[i]>nums[j]:\n",
    "                    dp[i]=max(dp[i],dp[j]+1)\n",
    "        return max(dp)"
   ]
  },
  {
   "cell_type": "markdown",
   "id": "c1d79646",
   "metadata": {},
   "source": [
    "## Longest Common Subsequence 11/13/21\n",
    "Given two strings text1 and text2, return the length of their longest common subsequence. If there is no common subsequence, return 0. Time: O(mn)"
   ]
  },
  {
   "cell_type": "code",
   "execution_count": null,
   "id": "cbfc39ba",
   "metadata": {},
   "outputs": [],
   "source": [
    "class Solution:\n",
    "    def longestCommonSubsequence(self, text1: str, text2: str) -> int:\n",
    "        m=len(text1)\n",
    "        n=len(text2)\n",
    "        if m==0 or n==0:\n",
    "            return 0\n",
    "        matrix=[[None]*(n + 1) for i in range(m + 1)]\n",
    "        for i in range(m+1):\n",
    "            for j in range(n+1):\n",
    "                if i==0 or j==0:\n",
    "                    matrix[i][j]=0\n",
    "                elif text1[i-1]!=text2[j-1]:\n",
    "                    matrix[i][j]= max(matrix[i-1][j],matrix[i][j-1])\n",
    "                else:\n",
    "                    matrix[i][j]=matrix[i-1][j-1]+1\n",
    "        return matrix[m][n]"
   ]
  },
  {
   "cell_type": "markdown",
   "id": "532dfbd1",
   "metadata": {},
   "source": [
    "## Maximum Depth of Binary Tree 11/14/21\n",
    "Given the root of a binary tree, return its maximum depth. Time: O(N), space: O(N) or O(log(N))"
   ]
  },
  {
   "cell_type": "code",
   "execution_count": 2,
   "id": "46d60d58",
   "metadata": {},
   "outputs": [],
   "source": [
    "# Definition for a binary tree node.\n",
    "# class TreeNode:\n",
    "#     def __init__(self, val=0, left=None, right=None):\n",
    "#         self.val = val\n",
    "#         self.left = left\n",
    "#         self.right = right\n",
    "class Solution:\n",
    "    def maxDepth(self, root):\n",
    "        if root is None:\n",
    "            return 0\n",
    "        else:\n",
    "            left_num=self.maxDepth(root.left)\n",
    "            right_num=self.maxDepth(root.right)\n",
    "        return max(left_num,right_num)+1"
   ]
  },
  {
   "cell_type": "markdown",
   "id": "1e04cfca",
   "metadata": {},
   "source": [
    "## Convert Sorted Array to Binary Search Tree 11/14/21\n",
    "Given an integer array nums where the elements are sorted in ascending order, convert it to a height-balanced binary search tree.\n",
    "A height-balanced binary tree is a binary tree in which the depth of the two subtrees of every node never differs by more than one. Recursive with a help function"
   ]
  },
  {
   "cell_type": "code",
   "execution_count": 3,
   "id": "17691465",
   "metadata": {},
   "outputs": [],
   "source": [
    "# Definition for a binary tree node.\n",
    "# class TreeNode:\n",
    "#     def __init__(self, val=0, left=None, right=None):\n",
    "#         self.val = val\n",
    "#         self.left = left\n",
    "#         self.right = right\n",
    "class Solution:\n",
    "    def sortedArrayToBST(self, nums):\n",
    "        def helper(left, right):\n",
    "            if left>right:\n",
    "                return None\n",
    "            p=(left+right)//2\n",
    "            root=TreeNode(nums[p])\n",
    "            root.left = helper(left, p-1)\n",
    "            root.right = helper(p+1,right)\n",
    "            return root\n",
    "        return helper(0,len(nums)-1)"
   ]
  },
  {
   "cell_type": "markdown",
   "id": "f09e9a3b",
   "metadata": {},
   "source": [
    "## Balanced Binary Tree 11/14/21\n",
    "Given a binary tree, determine if it is height-balanced."
   ]
  },
  {
   "cell_type": "code",
   "execution_count": null,
   "id": "ffb0ce4f",
   "metadata": {},
   "outputs": [],
   "source": [
    "# Definition for a binary tree node.\n",
    "# class TreeNode:\n",
    "#     def __init__(self, val=0, left=None, right=None):\n",
    "#         self.val = val\n",
    "#         self.left = left\n",
    "#         self.right = right\n",
    "class Solution:\n",
    "    def height(self, root):\n",
    "        if not root:\n",
    "            return -1\n",
    "        return 1+max(self.height(root.left), self.height(root.right))\n",
    "    def isBalanced(self, root):\n",
    "        if not root:\n",
    "            return True\n",
    "        \n",
    "        return abs(self.height(root.left)-self.height(root.right))<2 and self.isBalanced(root.left) and self.isBalanced(root.right)    "
   ]
  },
  {
   "cell_type": "markdown",
   "id": "7534ec70",
   "metadata": {},
   "source": [
    "## Minimum Depth of Binary Tree 11/15/21\n",
    "Given a binary tree, find its minimum depth. The minimum depth is the number of nodes along the shortest path from the root node down to the nearest leaf node."
   ]
  },
  {
   "cell_type": "code",
   "execution_count": 1,
   "id": "d796cf82",
   "metadata": {},
   "outputs": [],
   "source": [
    "# Definition for a binary tree node.\n",
    "# class TreeNode:\n",
    "#     def __init__(self, val=0, left=None, right=None):\n",
    "#         self.val = val\n",
    "#         self.left = left\n",
    "#         self.right = right\n",
    "class Solution:\n",
    "    def minDepth(self, root):\n",
    "        if not root:\n",
    "            return 0\n",
    "        child = [root.left, root.right]\n",
    "        if not any(children):\n",
    "            return 1\n",
    "        min_depth = float('inf')\n",
    "        for c in child:\n",
    "            if c:\n",
    "                min_depth = min(self.minDepth(c), min_depth)\n",
    "        return min_depth+1 "
   ]
  },
  {
   "cell_type": "markdown",
   "id": "68a13f78",
   "metadata": {},
   "source": [
    "## Path Sum 11/15/21\n",
    "Given the root of a binary tree and an integer targetSum, return true if the tree has a root-to-leaf path such that adding up all the values along the path equals targetSum."
   ]
  },
  {
   "cell_type": "code",
   "execution_count": 4,
   "id": "687d9d8c",
   "metadata": {},
   "outputs": [],
   "source": [
    "# Definition for a binary tree node. recursion\n",
    "# class TreeNode:\n",
    "#     def __init__(self, val=0, left=None, right=None):\n",
    "#         self.val = val\n",
    "#         self.left = left\n",
    "#         self.right = right\n",
    "class Solution:\n",
    "    def hasPathSum(self, root, targetSum):\n",
    "        if not root:\n",
    "            return False\n",
    "        targetSum -=root.val\n",
    "        if not root.left and not root.right:\n",
    "            return targetSum==0\n",
    "        return self.hasPathSum(root.left, targetSum) or self.hasPathSum(root.right, targetSum)"
   ]
  },
  {
   "cell_type": "markdown",
   "id": "4ef18ad9",
   "metadata": {},
   "source": [
    "## Pascal's Triangle 11/15/21\n",
    "Given an integer numRows, return the first numRows of Pascal's triangle."
   ]
  },
  {
   "cell_type": "code",
   "execution_count": 12,
   "id": "5a0e53ea",
   "metadata": {},
   "outputs": [],
   "source": [
    "class Solution:\n",
    "    def generate(self, numRows):\n",
    "        triangle=[]# generate the overall triangle list, which will store each row as a sublist.\n",
    "        for a in range(numRows):\n",
    "            b=[None for _ in range(a+1)]\n",
    "            b[0]=1\n",
    "            b[-1]=1\n",
    "            for i in range(1, len(b)-1):\n",
    "                b[i]=triangle[a-1][i-1]+triangle[a-1][i]\n",
    "                \n",
    "            triangle.append(b)\n",
    "        return triangle        "
   ]
  },
  {
   "cell_type": "markdown",
   "id": "ce67fb27",
   "metadata": {},
   "source": [
    "## Pascal's Triangle II 11/15/21\n",
    "Given an integer rowIndex, return the rowIndexth (0-indexed) row of the Pascal's triangle."
   ]
  },
  {
   "cell_type": "code",
   "execution_count": 14,
   "id": "dc4142e7",
   "metadata": {},
   "outputs": [],
   "source": [
    "class Solution:\n",
    "    def getRow(self, rowIndex):\n",
    "        tri=[[1],[1,1]]\n",
    "        for i in range(2,rowIndex+1):\n",
    "            row=[None]*(i+1)\n",
    "            row[0]=1\n",
    "            row[i]=1\n",
    "            for j in range(1,i):\n",
    "                row[j]=tri[i-1][j]+tri[i-1][j-1]\n",
    "            tri.append(row)\n",
    "        return tri[rowIndex]"
   ]
  },
  {
   "cell_type": "markdown",
   "id": "344e0f66",
   "metadata": {},
   "source": [
    "## Best Time to Buy and Sell Stock 11/16/21\n",
    "You are given an array prices where prices[i] is the price of a given stock on the ith day.\n",
    "\n",
    "You want to maximize your profit by choosing a single day to buy one stock and choosing a different day in the future to sell that stock. Return the maximum profit you can achieve from this transaction. If you cannot achieve any profit, return 0. Time: O(n); Space: O(1)"
   ]
  },
  {
   "cell_type": "code",
   "execution_count": 3,
   "id": "0f0084d3",
   "metadata": {},
   "outputs": [],
   "source": [
    "class Solution:\n",
    "    def maxProfit(self, prices):\n",
    "        if len(prices)<0:\n",
    "            return 0\n",
    "        profit = 0\n",
    "        buy = prices[0]\n",
    "        for i in range(len(prices)):\n",
    "            if buy>prices[i]:\n",
    "                buy = prices[i]\n",
    "                \n",
    "            profit = max(prices[i]-buy, profit)\n",
    "        return profit"
   ]
  },
  {
   "cell_type": "markdown",
   "id": "becda59a",
   "metadata": {},
   "source": [
    "##  Valid Palindrome (two pointers) 11/17/21\n",
    "A phrase is a palindrome if, after converting all uppercase letters into lowercase letters and removing all non-alphanumeric characters, it reads the same forward and backward. Alphanumeric characters include letters and numbers. Given a string s, return true if it is a palindrome, or false otherwise."
   ]
  },
  {
   "cell_type": "code",
   "execution_count": 3,
   "id": "3d29c023",
   "metadata": {},
   "outputs": [],
   "source": [
    "class Solution:\n",
    "    def isPalindrome(self, s):\n",
    "        i,j=0,len(s)-1\n",
    "        while i<j:\n",
    "            if not s[i].isalnum():## If i is not an alpha-numeric character then advance i  \n",
    "                i+=1\n",
    "            elif not s[j].isalnum():\n",
    "                j-=1\n",
    "            elif s[i].lower()!=s[j].lower():\n",
    "                return False\n",
    "            else:\n",
    "                i,j=i+1,j-1\n",
    "        return True\n",
    "            "
   ]
  },
  {
   "cell_type": "markdown",
   "id": "39e60e95",
   "metadata": {},
   "source": [
    "## Min Cost Climbing Stairs 11/17/21\n",
    "You are given an integer array cost where cost[i] is the cost of ith step on a staircase. Once you pay the cost, you can either climb one or two steps. You can either start from the step with index 0, or the step with index 1.\n",
    "Return the minimum cost to reach the top of the floor."
   ]
  },
  {
   "cell_type": "code",
   "execution_count": 1,
   "id": "95d9de07",
   "metadata": {},
   "outputs": [],
   "source": [
    "class Solution:\n",
    "    def minCostClimbingStairs(self, cost):\n",
    "        min_cost = [0]*(len(cost)+1)\n",
    "        for i in range(2, len(cost)+1):\n",
    "            take_one_step = min_cost[i-1]+cost[i-1]\n",
    "            take_two_step = min_cost[i-2]+cost[i-2]\n",
    "            min_cost[i]= min(take_one_step,take_two_step)\n",
    "        return min_cost[-1]"
   ]
  },
  {
   "cell_type": "markdown",
   "id": "116a4b72",
   "metadata": {},
   "source": [
    "## Single Number 11/17/21\n",
    "Given a non-empty array of integers nums, every element appears twice except for one. Find that single one. You must implement a solution with a linear runtime complexity and use only constant extra space."
   ]
  },
  {
   "cell_type": "code",
   "execution_count": 6,
   "id": "7af96a31",
   "metadata": {},
   "outputs": [],
   "source": [
    "class Solution:\n",
    "    def singleNumber(self, nums):\n",
    "        return 2*sum(set(nums))-sum(nums)"
   ]
  },
  {
   "cell_type": "markdown",
   "id": "339657aa",
   "metadata": {},
   "source": [
    "## Break a Palindrome 11/18/21\n",
    "Given a palindromic string of lowercase English letters palindrome, replace exactly one character with any lowercase English letter so that the resulting string is not a palindrome and that it is the lexicographically smallest one possible. Return the resulting string. If there is no way to replace a character to make it not a palindrome, return an empty string."
   ]
  },
  {
   "cell_type": "code",
   "execution_count": 1,
   "id": "7d08e66a",
   "metadata": {},
   "outputs": [],
   "source": [
    "class Solution:\n",
    "    def breakPalindrome(self, p):\n",
    "        if len(p)==1:\n",
    "            return \"\"\n",
    "        for i in range(len(p)//2):\n",
    "            if p[i]!='a':\n",
    "                return p[0:i]+'a'+p[i+1:]\n",
    "        return p[:-1]+'b'"
   ]
  },
  {
   "cell_type": "markdown",
   "id": "b3867225",
   "metadata": {},
   "source": [
    "## Linked List Cycle 11/20/21 Two pointers space: O(1)\n",
    "Given head, the head of a linked list, determine if the linked list has a cycle in it. There is a cycle in a linked list if there is some node in the list that can be reached again by continuously following the next pointer. Internally, pos is used to denote the index of the node that tail's next pointer is connected to. Note that pos is not passed as a parameter. Return true if there is a cycle in the linked list. Otherwise, return false."
   ]
  },
  {
   "cell_type": "code",
   "execution_count": 1,
   "id": "dcdc7a67",
   "metadata": {},
   "outputs": [],
   "source": [
    "# Definition for singly-linked list.\n",
    "# class ListNode:\n",
    "#     def __init__(self, x):\n",
    "#         self.val = x\n",
    "#         self.next = None\n",
    "\n",
    "class Solution:\n",
    "    def hasCycle(self, head):\n",
    "        if not head:\n",
    "            return False\n",
    "        slow = head\n",
    "        fast = head.next\n",
    "        while slow is not fast:\n",
    "            if slow is None or fast is None or fast.next is None:\n",
    "                return False\n",
    "            fast = fast.next.next\n",
    "            slow = slow.next\n",
    "        return True     "
   ]
  },
  {
   "cell_type": "markdown",
   "id": "d4e14a80",
   "metadata": {},
   "source": [
    "## Binary Tree Preorder Traversal 11/21/21 root-left-right"
   ]
  },
  {
   "cell_type": "code",
   "execution_count": null,
   "id": "6a0a0f9e",
   "metadata": {},
   "outputs": [],
   "source": [
    "# Definition for a binary tree node.\n",
    "# class TreeNode:\n",
    "#     def __init__(self, val=0, left=None, right=None):\n",
    "#         self.val = val\n",
    "#         self.left = left\n",
    "#         self.right = right\n",
    "class Solution:\n",
    "    def preorderTraversal(self, root):\n",
    "        if not root:\n",
    "            return []\n",
    "        res,stack=[],[root]\n",
    "        while stack:\n",
    "            node=stack.pop()\n",
    "            if node:\n",
    "                res.append(node.val)\n",
    "                stack.append(node.right)\n",
    "                stack.append(node.left)\n",
    "        return res\n",
    "    "
   ]
  },
  {
   "cell_type": "markdown",
   "id": "35f6e272",
   "metadata": {},
   "source": [
    "## Binary Tree Postorder Traversal 11/21/21 Left-right-root\n",
    "inorder: left, root,right"
   ]
  },
  {
   "cell_type": "code",
   "execution_count": null,
   "id": "c7f17c09",
   "metadata": {},
   "outputs": [],
   "source": [
    "# Definition for a binary tree node.\n",
    "# class TreeNode:\n",
    "#     def __init__(self, val=0, left=None, right=None):\n",
    "#         self.val = val\n",
    "#         self.left = left\n",
    "#         self.right = right\n",
    "class Solution:\n",
    "    def postorderTraversal(self, root):\n",
    "        if not root:\n",
    "            return []\n",
    "        res,stack=[],[root]\n",
    "        while stack:\n",
    "            node=stack.pop()\n",
    "            if node:\n",
    "                res.append(node.val)\n",
    "                stack.append(node.left)\n",
    "                stack.append(node.right)\n",
    "        return res[::-1]## do reverse \n",
    "    "
   ]
  },
  {
   "cell_type": "markdown",
   "id": "9003fe60",
   "metadata": {},
   "source": [
    "## Min Stack 11/22/21\n",
    "Design a stack that supports push, pop, top, and retrieving the minimum element in constant time.\n",
    "\n",
    "Implement the MinStack class:\n",
    "\n",
    "MinStack() initializes the stack object.\n",
    "void push(int val) pushes the element val onto the stack.\n",
    "void pop() removes the element on the top of the stack.\n",
    "int top() gets the top element of the stack.\n",
    "int getMin() retrieves the minimum element in the stack."
   ]
  },
  {
   "cell_type": "code",
   "execution_count": 1,
   "id": "879fd6d8",
   "metadata": {},
   "outputs": [],
   "source": [
    "class MinStack:\n",
    "\n",
    "    def __init__(self):\n",
    "        # using an array A to store the elements placed in the stack, \n",
    "        # an additional array M tracking the minimum element seen so far\n",
    "        self.A=[]\n",
    "        self.M=[]\n",
    "\n",
    "    def push(self, x):\n",
    "        self.A.append(x)\n",
    "        M=self.M\n",
    "        M.append(x if not M else min(x,M[-1]))\n",
    "\n",
    "    def pop(self):\n",
    "        self.A.pop()\n",
    "        self.M.pop()\n",
    "\n",
    "    def top(self):\n",
    "        return self.A[-1]\n",
    "\n",
    "    def getMin(self):\n",
    "        return self.M[-1]\n",
    "\n",
    "\n",
    "# Your MinStack object will be instantiated and called as such:\n",
    "# obj = MinStack()\n",
    "# obj.push(val)\n",
    "# obj.pop()\n",
    "# param_3 = obj.top()\n",
    "# param_4 = obj.getMin()"
   ]
  },
  {
   "cell_type": "markdown",
   "id": "4b61a206",
   "metadata": {},
   "source": [
    "##  LRU Cache\n",
    "Design a data structure that follows the constraints of a Least Recently Used (LRU) cache.\n",
    "\n",
    "Implement the LRUCache class:\n",
    "\n",
    "LRUCache(int capacity) Initialize the LRU cache with positive size capacity.\n",
    "int get(int key) Return the value of the key if the key exists, otherwise return -1.\n",
    "void put(int key, int value) Update the value of the key if the key exists. Otherwise, add the key-value pair to the cache. If the number of keys exceeds the capacity from this operation, evict the least recently used key.\n",
    "The functions get and put must each run in O(1) average time complexity."
   ]
  },
  {
   "cell_type": "code",
   "execution_count": null,
   "id": "4c8e4f06",
   "metadata": {},
   "outputs": [],
   "source": [
    "from collections import OrderedDict \n",
    "# There is a structure called ordered dictionary, it combines behind both hashmap and linked list. \n",
    "class LRUCache(OrderedDict):\n",
    "\n",
    "    def __init__(self, capacity: int):\n",
    "        self.capacity = capacity\n",
    "\n",
    "    def get(self, key: int) -> int:\n",
    "        if key not in self:\n",
    "            return -1\n",
    "        self.move_to_end(key)\n",
    "        return self[key]\n",
    "\n",
    "    def put(self, key: int, value: int) -> None:\n",
    "        if key in self:\n",
    "            self.move_to_end(key)\n",
    "        self[key]=value\n",
    "        if len(self)>self.capacity:\n",
    "            self.popitem(last=False)"
   ]
  },
  {
   "cell_type": "markdown",
   "id": "fa347c5d",
   "metadata": {},
   "source": [
    "## Intersection of Two Linked Lists 11/23/21\n",
    "Given the heads of two singly linked-lists headA and headB, return the node at which the two lists intersect. If the two linked lists have no intersection at all, return null. time: O(M+N), space:O(1)"
   ]
  },
  {
   "cell_type": "code",
   "execution_count": 2,
   "id": "c6647200",
   "metadata": {},
   "outputs": [],
   "source": [
    "# Definition for singly-linked list.\n",
    "# class ListNode:\n",
    "#     def __init__(self, x):\n",
    "#         self.val = x\n",
    "#         self.next = None\n",
    "\n",
    "class Solution:\n",
    "    def getIntersectionNode(self, headA, headB):\n",
    "        pA=headA\n",
    "        pB=headB\n",
    "        while pA!=pB:\n",
    "            pA = headB if pA is None else pA.next\n",
    "            pB = headA if pB is None else pB.next\n",
    "        return pA\n",
    "        "
   ]
  },
  {
   "cell_type": "markdown",
   "id": "4e999f56",
   "metadata": {},
   "source": [
    "## Missing Ranges 11/24/21\n",
    "You are given an inclusive range [lower, upper] and a sorted unique integer array nums, where all elements are in the inclusive range.\n",
    "\n",
    "A number x is considered missing if x is in the range [lower, upper] and x is not in nums.\n",
    "\n",
    "Return the smallest sorted list of ranges that cover every missing number exactly. That is, no element of nums is in any of the ranges, and each missing number is in one of the ranges."
   ]
  },
  {
   "cell_type": "code",
   "execution_count": 4,
   "id": "c90ad775",
   "metadata": {},
   "outputs": [],
   "source": [
    "class Solution:\n",
    "    def findMissingRanges(self, nums, lower, upper):\n",
    "        res = []\n",
    "        prev=lower-1\n",
    "        for i in range(len(nums)+1):\n",
    "            curr = nums[i] if i<len(nums) else upper+1\n",
    "            if curr>prev+1:\n",
    "                \n",
    "                if prev+1<curr-1:\n",
    "                   res.append(str(prev+1)+'->'+str(curr-1))\n",
    "                else:\n",
    "                    res.append(str(prev+1))\n",
    "            prev=curr\n",
    "        return res"
   ]
  },
  {
   "cell_type": "markdown",
   "id": "08e37523",
   "metadata": {},
   "source": [
    "## Two Sum II - Input Array Is Sorted 11/24/21 BFS two pointers\n",
    "Given a 1-indexed array of integers numbers that is already sorted in non-decreasing order, find two numbers such that they add up to a specific target number. Let these two numbers be numbers[index1] and numbers[index2] where 1 <= index1 < index2 <= numbers.length.\n",
    "Return the indices of the two numbers, index1 and index2, added by one as an integer array [index1, index2] of length 2."
   ]
  },
  {
   "cell_type": "code",
   "execution_count": 1,
   "id": "45d21e7e",
   "metadata": {},
   "outputs": [],
   "source": [
    "class Solution:\n",
    "    def twoSum(self, numbers, target):\n",
    "        l, r = 0, len(nums)-1\n",
    "        while l<r:\n",
    "            if nums[l]+nums[r]==target:\n",
    "                return (l+1,r+1)\n",
    "            if nums[l]+nums[r]>target:\n",
    "                r-=1\n",
    "            else: l+=1\n",
    "   "
   ]
  },
  {
   "cell_type": "markdown",
   "id": "4920af68",
   "metadata": {},
   "source": [
    "## Excel Sheet column title 11/25/21\n",
    "Given an integer columnNumber, return its corresponding column title as it appears in an Excel sheet."
   ]
  },
  {
   "cell_type": "code",
   "execution_count": 2,
   "id": "5c2815ab",
   "metadata": {},
   "outputs": [],
   "source": [
    "class Solution:\n",
    "    def convertToTitle(self, n):\n",
    "        abc=\"ABCDEFGHIJKLMNOPQRSTUVWXYZ\"\n",
    "        ans=\"\"\n",
    "        while n:\n",
    "            n=n-1\n",
    "            ans=abc[n%26]+ans\n",
    "            n=n//26\n",
    "        return ans"
   ]
  },
  {
   "cell_type": "markdown",
   "id": "6bb26ae9",
   "metadata": {},
   "source": [
    "## Majority Element 11/25/21\n",
    "Given an array nums of size n, return the majority element.\n",
    "\n",
    "The majority element is the element that appears more than ⌊n / 2⌋ times. You may assume that the majority element always exists in the array."
   ]
  },
  {
   "cell_type": "code",
   "execution_count": 3,
   "id": "e100649a",
   "metadata": {},
   "outputs": [],
   "source": [
    "### time is too long O(n^2)\n",
    "class Solution:\n",
    "    def majorityElement(self, nums):\n",
    "        major_count = len(nums)//2\n",
    "        for num in nums:\n",
    "            count = sum(1 for elem in nums if elem==num)\n",
    "            if count>major_count:\n",
    "                return num\n",
    "        "
   ]
  },
  {
   "cell_type": "code",
   "execution_count": 4,
   "id": "f8c8660a",
   "metadata": {},
   "outputs": [],
   "source": [
    "class Solution:\n",
    "    def majorityElement(self, nums):\n",
    "        nums.sort()\n",
    "        return nums[len(nums)//2]"
   ]
  },
  {
   "cell_type": "markdown",
   "id": "d38d8748",
   "metadata": {},
   "source": [
    "## Two Sum III - Data structure design 11/25/21\n",
    "Design a data structure that accepts a stream of integers and checks if it has a pair of integers that sum up to a particular value.\n",
    "\n",
    "Implement the TwoSum class:\n",
    "\n",
    "TwoSum() Initializes the TwoSum object, with an empty array initially.\n",
    "void add(int number) Adds number to the data structure.\n",
    "boolean find(int value) Returns true if there exists any pair of numbers whose sum is equal to value, otherwise, it returns false."
   ]
  },
  {
   "cell_type": "code",
   "execution_count": 6,
   "id": "ddbb7651",
   "metadata": {},
   "outputs": [],
   "source": [
    "class TwoSum:\n",
    "\n",
    "    def __init__(self):\n",
    "        self.data = {}\n",
    "\n",
    "    def add(self, number):\n",
    "        if number in self.data:\n",
    "            self.data[number]+=1\n",
    "        else:\n",
    "            self.data[number]=1\n",
    "\n",
    "    def find(self, value):\n",
    "        data = self.data\n",
    "        for num in data:\n",
    "            if value-num in data and (value-num!=num or data[num]>1):\n",
    "                return True\n",
    "        return False\n",
    "\n",
    "\n",
    "# Your TwoSum object will be instantiated and called as such:\n",
    "# obj = TwoSum()\n",
    "# obj.add(number)\n",
    "# param_2 = obj.find(value)"
   ]
  },
  {
   "cell_type": "markdown",
   "id": "3b6d9428",
   "metadata": {},
   "source": [
    "## Excel Sheet Column Number 11/26/21\n",
    "Given a string columnTitle that represents the column title as appear in an Excel sheet, return its corresponding column number. Time: O(N), space: O(1)"
   ]
  },
  {
   "cell_type": "code",
   "execution_count": 1,
   "id": "4b657096",
   "metadata": {},
   "outputs": [],
   "source": [
    "class Solution:\n",
    "    def titleToNumber(self, s):\n",
    "        result = 0\n",
    "        n = len(s)\n",
    "        for i in range(n):## for every string in the columnTitle\n",
    "            result = result*26\n",
    "            result+=(ord(s[i])-ord('A')+1)\n",
    "            ##previous sum will be multiplied by 26(no of Alphabets in A -Z) + \n",
    "            ## ASCII of (i) - ASCII of (\"A\") + 1(to include A in the counting)\n",
    "            ## Python ord() function returns the Unicode code from a given character.\n",
    "        return result"
   ]
  },
  {
   "cell_type": "markdown",
   "id": "962d71b7",
   "metadata": {},
   "source": [
    "## Happy number 11/26/21\n"
   ]
  },
  {
   "cell_type": "code",
   "execution_count": 13,
   "id": "a2cba700",
   "metadata": {},
   "outputs": [],
   "source": [
    "class Solution:\n",
    "    def isHappy(self, n):\n",
    "        while n!=1:\n",
    "            n=sum([int(i)**2 for i in str(n)])\n",
    "            if n==4:# The only cycle starts and ends with 4\n",
    "                return False\n",
    "        return True\n",
    "        "
   ]
  },
  {
   "cell_type": "markdown",
   "id": "a4b1470a",
   "metadata": {},
   "source": [
    "## Reverse Bits 11/27/21 review bitwise operator\n",
    "Reverse bits of a given 32 bits unsigned integer\n",
    "x << y\n",
    "Returns x with the bits shifted to the left by y places (and new bits on the right-hand-side are zeros). This is the same as multiplying x by 2**y\n",
    "\n",
    "x >> y\n",
    "Returns x with the bits shifted to the right by y places. This is the same as //'ing x by 2**y\n",
    "\n",
    "x & y\n",
    "Does a \"bitwise and\". Each bit of the output is 1 if the corresponding bit of x AND of y is 1, otherwise it's 0.\n",
    "x | y\n",
    "Does a \"bitwise or\". Each bit of the output is 0 if the corresponding bit of x AND of y is 0, otherwise it's 1.\n",
    "~ x\n",
    "Returns the complement of x - the number you get by switching each 1 for a 0 and each 0 for a 1. This is the same as -x - 1.\n",
    "x ^ y\n",
    "Does a \"bitwise exclusive or\". Each bit of the output is the same as the corresponding bit in x if that bit in y is 0, and it's the complement of the bit in x if that bit in y is 1."
   ]
  },
  {
   "cell_type": "code",
   "execution_count": 14,
   "id": "33bc8719",
   "metadata": {},
   "outputs": [],
   "source": [
    "class Solution:\n",
    "    def reverseBits(self, n):\n",
    "        ret, power = 0,31\n",
    "        while n:\n",
    "            ret+=(n&1)<<power\n",
    "            n=n>>1\n",
    "            power-=1\n",
    "        return ret     "
   ]
  },
  {
   "cell_type": "markdown",
   "id": "0d6fd476",
   "metadata": {},
   "source": [
    "## Number of 1 bits 11/28/21\n",
    "Write a function that takes an unsigned integer and returns the number of '1' bits it has (also known as the Hamming weight)."
   ]
  },
  {
   "cell_type": "code",
   "execution_count": 1,
   "id": "1606f17d",
   "metadata": {},
   "outputs": [],
   "source": [
    "class Solution:\n",
    "    def hammingWeight(self, n):\n",
    "        count = 0\n",
    "        while n!=0:\n",
    "            if n&1:\n",
    "                count +=1\n",
    "            n=n>>1\n",
    "        return count "
   ]
  },
  {
   "cell_type": "markdown",
   "id": "642db7c6",
   "metadata": {},
   "source": [
    "## Removed Linked List Elements 11/29/21\n",
    "Given the head of a linked list and an integer val, remove all the nodes of the linked list that has Node.val == val, and return the new head. Time: O(N), space: O(1)"
   ]
  },
  {
   "cell_type": "code",
   "execution_count": 1,
   "id": "ca4e0bf2",
   "metadata": {},
   "outputs": [],
   "source": [
    "# Definition for singly-linked list.\n",
    "# class ListNode:\n",
    "#     def __init__(self, val=0, next=None):\n",
    "#         self.val = val\n",
    "#         self.next = next\n",
    "class Solution:\n",
    "    def removeElements(self, head, val):\n",
    "        sentinel = ListNode(0)\n",
    "        sentinel.next = head\n",
    "        prev, curr = sentinel, head\n",
    "        while curr:\n",
    "            if curr.val == val:\n",
    "                prev.next = curr.next\n",
    "            else:\n",
    "                prev = curr\n",
    "            curr = curr.next\n",
    "        return sentinel.next   "
   ]
  },
  {
   "cell_type": "markdown",
   "id": "db2041ad",
   "metadata": {},
   "source": [
    "## Isomorphic Strings 11/30/21\n",
    "Given two strings s and t, determine if they are isomorphic.\n",
    "\n",
    "Two strings s and t are isomorphic if the characters in s can be replaced to get t.\n",
    "\n",
    "All occurrences of a character must be replaced with another character while preserving the order of characters. No two characters may map to the same character, but a character may map to itself."
   ]
  },
  {
   "cell_type": "code",
   "execution_count": 1,
   "id": "880cf1dc",
   "metadata": {},
   "outputs": [],
   "source": [
    "class Solution:\n",
    "    def isIsomorphic(self, s, t):\n",
    "        mapping_s_t = {}\n",
    "        mapping_t_s = {}\n",
    "        for c1,c2 in zip(s,t):\n",
    "            if (c1 not in mapping_s_t) and (c2 not in mapping_t_s):\n",
    "                mapping_s_t[c1]=c2\n",
    "                mapping_t_s[c2]=c1\n",
    "                \n",
    "            elif mapping_s_t.get(c1)!=c2 or mapping_t_s.get(c2)!=c1:\n",
    "                return False\n",
    "        return True "
   ]
  },
  {
   "cell_type": "code",
   "execution_count": null,
   "id": "3a0262f5",
   "metadata": {},
   "outputs": [],
   "source": []
  }
 ],
 "metadata": {
  "kernelspec": {
   "display_name": "p37",
   "language": "python",
   "name": "p37"
  },
  "language_info": {
   "codemirror_mode": {
    "name": "ipython",
    "version": 3
   },
   "file_extension": ".py",
   "mimetype": "text/x-python",
   "name": "python",
   "nbconvert_exporter": "python",
   "pygments_lexer": "ipython3",
   "version": "3.7.11"
  }
 },
 "nbformat": 4,
 "nbformat_minor": 5
}
